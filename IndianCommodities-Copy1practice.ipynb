{
 "cells": [
  {
   "cell_type": "code",
   "execution_count": 1,
   "id": "24e23d9b",
   "metadata": {},
   "outputs": [],
   "source": [
    "import pandas as pd\n",
    "import numpy as np\n",
    "import matplotlib.pyplot as plt\n",
    "import seaborn as sns"
   ]
  },
  {
   "cell_type": "code",
   "execution_count": 2,
   "id": "a561a80d",
   "metadata": {},
   "outputs": [],
   "source": [
    "df=pd.read_csv(\"IndianCommodities.csv\")"
   ]
  },
  {
   "cell_type": "code",
   "execution_count": 3,
   "id": "edd4ad24",
   "metadata": {},
   "outputs": [
    {
     "data": {
      "text/html": [
       "<div>\n",
       "<style scoped>\n",
       "    .dataframe tbody tr th:only-of-type {\n",
       "        vertical-align: middle;\n",
       "    }\n",
       "\n",
       "    .dataframe tbody tr th {\n",
       "        vertical-align: top;\n",
       "    }\n",
       "\n",
       "    .dataframe thead th {\n",
       "        text-align: right;\n",
       "    }\n",
       "</style>\n",
       "<table border=\"1\" class=\"dataframe\">\n",
       "  <thead>\n",
       "    <tr style=\"text-align: right;\">\n",
       "      <th></th>\n",
       "      <th>Unnamed: 0</th>\n",
       "      <th>Date</th>\n",
       "      <th>Market</th>\n",
       "      <th>Category</th>\n",
       "      <th>Commodity</th>\n",
       "      <th>Unit</th>\n",
       "      <th>PriceFlag</th>\n",
       "      <th>PriceType</th>\n",
       "      <th>Currency</th>\n",
       "      <th>Price</th>\n",
       "      <th>USD_Price</th>\n",
       "    </tr>\n",
       "  </thead>\n",
       "  <tbody>\n",
       "    <tr>\n",
       "      <th>0</th>\n",
       "      <td>1</td>\n",
       "      <td>1994-01-15</td>\n",
       "      <td>Delhi</td>\n",
       "      <td>cereals and tubers</td>\n",
       "      <td>Rice</td>\n",
       "      <td>KG</td>\n",
       "      <td>actual</td>\n",
       "      <td>Retail</td>\n",
       "      <td>INR</td>\n",
       "      <td>8.0</td>\n",
       "      <td>0.2545</td>\n",
       "    </tr>\n",
       "    <tr>\n",
       "      <th>1</th>\n",
       "      <td>2</td>\n",
       "      <td>1994-01-15</td>\n",
       "      <td>Delhi</td>\n",
       "      <td>cereals and tubers</td>\n",
       "      <td>Wheat</td>\n",
       "      <td>KG</td>\n",
       "      <td>actual</td>\n",
       "      <td>Retail</td>\n",
       "      <td>INR</td>\n",
       "      <td>5.0</td>\n",
       "      <td>0.1590</td>\n",
       "    </tr>\n",
       "    <tr>\n",
       "      <th>2</th>\n",
       "      <td>3</td>\n",
       "      <td>1994-01-15</td>\n",
       "      <td>Delhi</td>\n",
       "      <td>miscellaneous food</td>\n",
       "      <td>Sugar</td>\n",
       "      <td>KG</td>\n",
       "      <td>actual</td>\n",
       "      <td>Retail</td>\n",
       "      <td>INR</td>\n",
       "      <td>13.5</td>\n",
       "      <td>0.4294</td>\n",
       "    </tr>\n",
       "    <tr>\n",
       "      <th>3</th>\n",
       "      <td>4</td>\n",
       "      <td>1994-01-15</td>\n",
       "      <td>Delhi</td>\n",
       "      <td>oil and fats</td>\n",
       "      <td>Oil (mustard)</td>\n",
       "      <td>KG</td>\n",
       "      <td>actual</td>\n",
       "      <td>Retail</td>\n",
       "      <td>INR</td>\n",
       "      <td>31.0</td>\n",
       "      <td>0.9860</td>\n",
       "    </tr>\n",
       "    <tr>\n",
       "      <th>4</th>\n",
       "      <td>5</td>\n",
       "      <td>1994-01-15</td>\n",
       "      <td>Ahmedabad</td>\n",
       "      <td>cereals and tubers</td>\n",
       "      <td>Rice</td>\n",
       "      <td>KG</td>\n",
       "      <td>actual</td>\n",
       "      <td>Retail</td>\n",
       "      <td>INR</td>\n",
       "      <td>6.8</td>\n",
       "      <td>0.2163</td>\n",
       "    </tr>\n",
       "  </tbody>\n",
       "</table>\n",
       "</div>"
      ],
      "text/plain": [
       "   Unnamed: 0        Date     Market            Category      Commodity Unit  \\\n",
       "0           1  1994-01-15      Delhi  cereals and tubers           Rice   KG   \n",
       "1           2  1994-01-15      Delhi  cereals and tubers          Wheat   KG   \n",
       "2           3  1994-01-15      Delhi  miscellaneous food          Sugar   KG   \n",
       "3           4  1994-01-15      Delhi        oil and fats  Oil (mustard)   KG   \n",
       "4           5  1994-01-15  Ahmedabad  cereals and tubers           Rice   KG   \n",
       "\n",
       "  PriceFlag PriceType Currency  Price  USD_Price  \n",
       "0    actual    Retail      INR    8.0     0.2545  \n",
       "1    actual    Retail      INR    5.0     0.1590  \n",
       "2    actual    Retail      INR   13.5     0.4294  \n",
       "3    actual    Retail      INR   31.0     0.9860  \n",
       "4    actual    Retail      INR    6.8     0.2163  "
      ]
     },
     "execution_count": 3,
     "metadata": {},
     "output_type": "execute_result"
    }
   ],
   "source": [
    "df.head()"
   ]
  },
  {
   "cell_type": "code",
   "execution_count": 4,
   "id": "aa647ab0",
   "metadata": {},
   "outputs": [
    {
     "name": "stdout",
     "output_type": "stream",
     "text": [
      "<class 'pandas.core.frame.DataFrame'>\n",
      "RangeIndex: 139534 entries, 0 to 139533\n",
      "Data columns (total 11 columns):\n",
      " #   Column      Non-Null Count   Dtype  \n",
      "---  ------      --------------   -----  \n",
      " 0   Unnamed: 0  139534 non-null  int64  \n",
      " 1   Date        139534 non-null  object \n",
      " 2   Market      139534 non-null  object \n",
      " 3   Category    139534 non-null  object \n",
      " 4   Commodity   139534 non-null  object \n",
      " 5   Unit        139534 non-null  object \n",
      " 6   PriceFlag   139534 non-null  object \n",
      " 7   PriceType   139534 non-null  object \n",
      " 8   Currency    139534 non-null  object \n",
      " 9   Price       139534 non-null  float64\n",
      " 10  USD_Price   139534 non-null  float64\n",
      "dtypes: float64(2), int64(1), object(8)\n",
      "memory usage: 11.7+ MB\n"
     ]
    }
   ],
   "source": [
    "df.info()"
   ]
  },
  {
   "cell_type": "code",
   "execution_count": 5,
   "id": "7a0a880d",
   "metadata": {},
   "outputs": [
    {
     "data": {
      "text/plain": [
       "Index(['Unnamed: 0', 'Date', 'Market', 'Category', 'Commodity', 'Unit',\n",
       "       'PriceFlag', 'PriceType', 'Currency', 'Price', 'USD_Price'],\n",
       "      dtype='object')"
      ]
     },
     "execution_count": 5,
     "metadata": {},
     "output_type": "execute_result"
    }
   ],
   "source": [
    "df.columns"
   ]
  },
  {
   "cell_type": "code",
   "execution_count": 6,
   "id": "2298d83a",
   "metadata": {},
   "outputs": [
    {
     "data": {
      "text/plain": [
       "Unnamed: 0      int64\n",
       "Date           object\n",
       "Market         object\n",
       "Category       object\n",
       "Commodity      object\n",
       "Unit           object\n",
       "PriceFlag      object\n",
       "PriceType      object\n",
       "Currency       object\n",
       "Price         float64\n",
       "USD_Price     float64\n",
       "dtype: object"
      ]
     },
     "execution_count": 6,
     "metadata": {},
     "output_type": "execute_result"
    }
   ],
   "source": [
    "df.dtypes"
   ]
  },
  {
   "cell_type": "code",
   "execution_count": 7,
   "id": "07849660",
   "metadata": {},
   "outputs": [
    {
     "data": {
      "text/html": [
       "<div>\n",
       "<style scoped>\n",
       "    .dataframe tbody tr th:only-of-type {\n",
       "        vertical-align: middle;\n",
       "    }\n",
       "\n",
       "    .dataframe tbody tr th {\n",
       "        vertical-align: top;\n",
       "    }\n",
       "\n",
       "    .dataframe thead th {\n",
       "        text-align: right;\n",
       "    }\n",
       "</style>\n",
       "<table border=\"1\" class=\"dataframe\">\n",
       "  <thead>\n",
       "    <tr style=\"text-align: right;\">\n",
       "      <th></th>\n",
       "      <th>Unnamed: 0</th>\n",
       "      <th>Date</th>\n",
       "      <th>Market</th>\n",
       "      <th>Category</th>\n",
       "      <th>Commodity</th>\n",
       "      <th>Unit</th>\n",
       "      <th>PriceFlag</th>\n",
       "      <th>PriceType</th>\n",
       "      <th>Currency</th>\n",
       "      <th>Price</th>\n",
       "      <th>USD_Price</th>\n",
       "    </tr>\n",
       "  </thead>\n",
       "  <tbody>\n",
       "    <tr>\n",
       "      <th>0</th>\n",
       "      <td>1</td>\n",
       "      <td>1994-01-15</td>\n",
       "      <td>Delhi</td>\n",
       "      <td>cereals and tubers</td>\n",
       "      <td>Rice</td>\n",
       "      <td>KG</td>\n",
       "      <td>actual</td>\n",
       "      <td>Retail</td>\n",
       "      <td>INR</td>\n",
       "      <td>8.0</td>\n",
       "      <td>0.2545</td>\n",
       "    </tr>\n",
       "    <tr>\n",
       "      <th>1</th>\n",
       "      <td>2</td>\n",
       "      <td>1994-01-15</td>\n",
       "      <td>Delhi</td>\n",
       "      <td>cereals and tubers</td>\n",
       "      <td>Wheat</td>\n",
       "      <td>KG</td>\n",
       "      <td>actual</td>\n",
       "      <td>Retail</td>\n",
       "      <td>INR</td>\n",
       "      <td>5.0</td>\n",
       "      <td>0.1590</td>\n",
       "    </tr>\n",
       "    <tr>\n",
       "      <th>2</th>\n",
       "      <td>3</td>\n",
       "      <td>1994-01-15</td>\n",
       "      <td>Delhi</td>\n",
       "      <td>miscellaneous food</td>\n",
       "      <td>Sugar</td>\n",
       "      <td>KG</td>\n",
       "      <td>actual</td>\n",
       "      <td>Retail</td>\n",
       "      <td>INR</td>\n",
       "      <td>13.5</td>\n",
       "      <td>0.4294</td>\n",
       "    </tr>\n",
       "  </tbody>\n",
       "</table>\n",
       "</div>"
      ],
      "text/plain": [
       "   Unnamed: 0        Date Market            Category Commodity Unit PriceFlag  \\\n",
       "0           1  1994-01-15  Delhi  cereals and tubers      Rice   KG    actual   \n",
       "1           2  1994-01-15  Delhi  cereals and tubers     Wheat   KG    actual   \n",
       "2           3  1994-01-15  Delhi  miscellaneous food     Sugar   KG    actual   \n",
       "\n",
       "  PriceType Currency  Price  USD_Price  \n",
       "0    Retail      INR    8.0     0.2545  \n",
       "1    Retail      INR    5.0     0.1590  \n",
       "2    Retail      INR   13.5     0.4294  "
      ]
     },
     "execution_count": 7,
     "metadata": {},
     "output_type": "execute_result"
    }
   ],
   "source": [
    "df.head(3)"
   ]
  },
  {
   "cell_type": "code",
   "execution_count": 8,
   "id": "54420a2c",
   "metadata": {},
   "outputs": [
    {
     "data": {
      "text/plain": [
       "165"
      ]
     },
     "execution_count": 8,
     "metadata": {},
     "output_type": "execute_result"
    }
   ],
   "source": [
    "df.Market.nunique()"
   ]
  },
  {
   "cell_type": "code",
   "execution_count": 9,
   "id": "05f0503a",
   "metadata": {},
   "outputs": [
    {
     "data": {
      "text/plain": [
       "6"
      ]
     },
     "execution_count": 9,
     "metadata": {},
     "output_type": "execute_result"
    }
   ],
   "source": [
    "df.Category.nunique()"
   ]
  },
  {
   "cell_type": "code",
   "execution_count": 10,
   "id": "b54429e0",
   "metadata": {},
   "outputs": [
    {
     "data": {
      "text/plain": [
       "23"
      ]
     },
     "execution_count": 10,
     "metadata": {},
     "output_type": "execute_result"
    }
   ],
   "source": [
    "df.Commodity.nunique()"
   ]
  },
  {
   "cell_type": "code",
   "execution_count": 11,
   "id": "a60d9366",
   "metadata": {},
   "outputs": [
    {
     "data": {
      "text/plain": [
       "array(['Rice', 'Wheat', 'Sugar', 'Oil (mustard)', 'Potatoes', 'Chickpeas',\n",
       "       'Onions', 'Milk', 'Wheat flour', 'Milk (pasteurized)',\n",
       "       'Salt (iodised)', 'Oil (groundnut)', 'Oil (palm)',\n",
       "       'Oil (sunflower)', 'Lentils (masur)', 'Tomatoes', 'Tea (black)',\n",
       "       'Lentils', 'Sugar (jaggery/gur)', 'Ghee (vanaspati)',\n",
       "       'Lentils (moong)', 'Lentils (urad)', 'Oil (soybean)'], dtype=object)"
      ]
     },
     "execution_count": 11,
     "metadata": {},
     "output_type": "execute_result"
    }
   ],
   "source": [
    "df.Commodity.unique()"
   ]
  },
  {
   "cell_type": "code",
   "execution_count": 12,
   "id": "7aaf6df3",
   "metadata": {},
   "outputs": [
    {
     "data": {
      "text/plain": [
       "array(['Retail', 'Wholesale'], dtype=object)"
      ]
     },
     "execution_count": 12,
     "metadata": {},
     "output_type": "execute_result"
    }
   ],
   "source": [
    "df.PriceType.unique()"
   ]
  },
  {
   "cell_type": "code",
   "execution_count": 13,
   "id": "0a4066f7",
   "metadata": {},
   "outputs": [
    {
     "data": {
      "text/plain": [
       "array(['actual'], dtype=object)"
      ]
     },
     "execution_count": 13,
     "metadata": {},
     "output_type": "execute_result"
    }
   ],
   "source": [
    "df[\"PriceFlag\"].unique()"
   ]
  },
  {
   "cell_type": "code",
   "execution_count": 14,
   "id": "9d27c74b",
   "metadata": {},
   "outputs": [
    {
     "data": {
      "text/plain": [
       "array(['INR'], dtype=object)"
      ]
     },
     "execution_count": 14,
     "metadata": {},
     "output_type": "execute_result"
    }
   ],
   "source": [
    "df[\"Currency\"].unique()"
   ]
  },
  {
   "cell_type": "code",
   "execution_count": 15,
   "id": "888c3b4f",
   "metadata": {},
   "outputs": [
    {
     "data": {
      "text/html": [
       "<div>\n",
       "<style scoped>\n",
       "    .dataframe tbody tr th:only-of-type {\n",
       "        vertical-align: middle;\n",
       "    }\n",
       "\n",
       "    .dataframe tbody tr th {\n",
       "        vertical-align: top;\n",
       "    }\n",
       "\n",
       "    .dataframe thead th {\n",
       "        text-align: right;\n",
       "    }\n",
       "</style>\n",
       "<table border=\"1\" class=\"dataframe\">\n",
       "  <thead>\n",
       "    <tr style=\"text-align: right;\">\n",
       "      <th></th>\n",
       "      <th>Unnamed: 0</th>\n",
       "      <th>Date</th>\n",
       "      <th>Market</th>\n",
       "      <th>Category</th>\n",
       "      <th>Commodity</th>\n",
       "      <th>Unit</th>\n",
       "      <th>PriceFlag</th>\n",
       "      <th>PriceType</th>\n",
       "      <th>Currency</th>\n",
       "      <th>Price</th>\n",
       "      <th>USD_Price</th>\n",
       "    </tr>\n",
       "  </thead>\n",
       "  <tbody>\n",
       "    <tr>\n",
       "      <th>107553</th>\n",
       "      <td>107554</td>\n",
       "      <td>2020-10-15</td>\n",
       "      <td>Mayabunder</td>\n",
       "      <td>cereals and tubers</td>\n",
       "      <td>Potatoes</td>\n",
       "      <td>KG</td>\n",
       "      <td>actual</td>\n",
       "      <td>Retail</td>\n",
       "      <td>INR</td>\n",
       "      <td>60.0</td>\n",
       "      <td>0.8165</td>\n",
       "    </tr>\n",
       "    <tr>\n",
       "      <th>107554</th>\n",
       "      <td>107555</td>\n",
       "      <td>2020-10-15</td>\n",
       "      <td>Mayabunder</td>\n",
       "      <td>cereals and tubers</td>\n",
       "      <td>Rice</td>\n",
       "      <td>KG</td>\n",
       "      <td>actual</td>\n",
       "      <td>Retail</td>\n",
       "      <td>INR</td>\n",
       "      <td>45.0</td>\n",
       "      <td>0.6124</td>\n",
       "    </tr>\n",
       "    <tr>\n",
       "      <th>107555</th>\n",
       "      <td>107556</td>\n",
       "      <td>2020-10-15</td>\n",
       "      <td>Mayabunder</td>\n",
       "      <td>cereals and tubers</td>\n",
       "      <td>Wheat flour</td>\n",
       "      <td>KG</td>\n",
       "      <td>actual</td>\n",
       "      <td>Retail</td>\n",
       "      <td>INR</td>\n",
       "      <td>57.0</td>\n",
       "      <td>0.7757</td>\n",
       "    </tr>\n",
       "    <tr>\n",
       "      <th>107556</th>\n",
       "      <td>107557</td>\n",
       "      <td>2020-10-15</td>\n",
       "      <td>Mayabunder</td>\n",
       "      <td>milk and dairy</td>\n",
       "      <td>Milk (pasteurized)</td>\n",
       "      <td>L</td>\n",
       "      <td>actual</td>\n",
       "      <td>Retail</td>\n",
       "      <td>INR</td>\n",
       "      <td>64.0</td>\n",
       "      <td>0.8710</td>\n",
       "    </tr>\n",
       "    <tr>\n",
       "      <th>107557</th>\n",
       "      <td>107558</td>\n",
       "      <td>2020-10-15</td>\n",
       "      <td>Mayabunder</td>\n",
       "      <td>miscellaneous food</td>\n",
       "      <td>Salt (iodised)</td>\n",
       "      <td>KG</td>\n",
       "      <td>actual</td>\n",
       "      <td>Retail</td>\n",
       "      <td>INR</td>\n",
       "      <td>20.0</td>\n",
       "      <td>0.2722</td>\n",
       "    </tr>\n",
       "    <tr>\n",
       "      <th>...</th>\n",
       "      <td>...</td>\n",
       "      <td>...</td>\n",
       "      <td>...</td>\n",
       "      <td>...</td>\n",
       "      <td>...</td>\n",
       "      <td>...</td>\n",
       "      <td>...</td>\n",
       "      <td>...</td>\n",
       "      <td>...</td>\n",
       "      <td>...</td>\n",
       "      <td>...</td>\n",
       "    </tr>\n",
       "    <tr>\n",
       "      <th>109786</th>\n",
       "      <td>109787</td>\n",
       "      <td>2020-10-15</td>\n",
       "      <td>Kharagpur</td>\n",
       "      <td>pulses and nuts</td>\n",
       "      <td>Lentils (masur)</td>\n",
       "      <td>KG</td>\n",
       "      <td>actual</td>\n",
       "      <td>Retail</td>\n",
       "      <td>INR</td>\n",
       "      <td>110.0</td>\n",
       "      <td>1.4970</td>\n",
       "    </tr>\n",
       "    <tr>\n",
       "      <th>109787</th>\n",
       "      <td>109788</td>\n",
       "      <td>2020-10-15</td>\n",
       "      <td>Kharagpur</td>\n",
       "      <td>pulses and nuts</td>\n",
       "      <td>Lentils (moong)</td>\n",
       "      <td>KG</td>\n",
       "      <td>actual</td>\n",
       "      <td>Retail</td>\n",
       "      <td>INR</td>\n",
       "      <td>130.0</td>\n",
       "      <td>1.7692</td>\n",
       "    </tr>\n",
       "    <tr>\n",
       "      <th>109788</th>\n",
       "      <td>109789</td>\n",
       "      <td>2020-10-15</td>\n",
       "      <td>Kharagpur</td>\n",
       "      <td>pulses and nuts</td>\n",
       "      <td>Lentils (urad)</td>\n",
       "      <td>KG</td>\n",
       "      <td>actual</td>\n",
       "      <td>Retail</td>\n",
       "      <td>INR</td>\n",
       "      <td>105.0</td>\n",
       "      <td>1.4290</td>\n",
       "    </tr>\n",
       "    <tr>\n",
       "      <th>109789</th>\n",
       "      <td>109790</td>\n",
       "      <td>2020-10-15</td>\n",
       "      <td>Kharagpur</td>\n",
       "      <td>vegetables and fruits</td>\n",
       "      <td>Onions</td>\n",
       "      <td>KG</td>\n",
       "      <td>actual</td>\n",
       "      <td>Retail</td>\n",
       "      <td>INR</td>\n",
       "      <td>43.2</td>\n",
       "      <td>0.5879</td>\n",
       "    </tr>\n",
       "    <tr>\n",
       "      <th>109790</th>\n",
       "      <td>109791</td>\n",
       "      <td>2020-10-15</td>\n",
       "      <td>Kharagpur</td>\n",
       "      <td>vegetables and fruits</td>\n",
       "      <td>Tomatoes</td>\n",
       "      <td>KG</td>\n",
       "      <td>actual</td>\n",
       "      <td>Retail</td>\n",
       "      <td>INR</td>\n",
       "      <td>66.8</td>\n",
       "      <td>0.9091</td>\n",
       "    </tr>\n",
       "  </tbody>\n",
       "</table>\n",
       "<p>2238 rows × 11 columns</p>\n",
       "</div>"
      ],
      "text/plain": [
       "        Unnamed: 0        Date      Market               Category  \\\n",
       "107553      107554  2020-10-15  Mayabunder     cereals and tubers   \n",
       "107554      107555  2020-10-15  Mayabunder     cereals and tubers   \n",
       "107555      107556  2020-10-15  Mayabunder     cereals and tubers   \n",
       "107556      107557  2020-10-15  Mayabunder         milk and dairy   \n",
       "107557      107558  2020-10-15  Mayabunder     miscellaneous food   \n",
       "...            ...         ...         ...                    ...   \n",
       "109786      109787  2020-10-15   Kharagpur        pulses and nuts   \n",
       "109787      109788  2020-10-15   Kharagpur        pulses and nuts   \n",
       "109788      109789  2020-10-15   Kharagpur        pulses and nuts   \n",
       "109789      109790  2020-10-15   Kharagpur  vegetables and fruits   \n",
       "109790      109791  2020-10-15   Kharagpur  vegetables and fruits   \n",
       "\n",
       "                 Commodity Unit PriceFlag PriceType Currency  Price  USD_Price  \n",
       "107553            Potatoes   KG    actual    Retail      INR   60.0     0.8165  \n",
       "107554                Rice   KG    actual    Retail      INR   45.0     0.6124  \n",
       "107555         Wheat flour   KG    actual    Retail      INR   57.0     0.7757  \n",
       "107556  Milk (pasteurized)    L    actual    Retail      INR   64.0     0.8710  \n",
       "107557      Salt (iodised)   KG    actual    Retail      INR   20.0     0.2722  \n",
       "...                    ...  ...       ...       ...      ...    ...        ...  \n",
       "109786     Lentils (masur)   KG    actual    Retail      INR  110.0     1.4970  \n",
       "109787     Lentils (moong)   KG    actual    Retail      INR  130.0     1.7692  \n",
       "109788      Lentils (urad)   KG    actual    Retail      INR  105.0     1.4290  \n",
       "109789              Onions   KG    actual    Retail      INR   43.2     0.5879  \n",
       "109790            Tomatoes   KG    actual    Retail      INR   66.8     0.9091  \n",
       "\n",
       "[2238 rows x 11 columns]"
      ]
     },
     "execution_count": 15,
     "metadata": {},
     "output_type": "execute_result"
    }
   ],
   "source": [
    "df[df.Date=='2020-10-15']"
   ]
  },
  {
   "cell_type": "code",
   "execution_count": 16,
   "id": "7aae873c",
   "metadata": {},
   "outputs": [
    {
     "data": {
      "text/plain": [
       "(139534, 11)"
      ]
     },
     "execution_count": 16,
     "metadata": {},
     "output_type": "execute_result"
    }
   ],
   "source": [
    "df.shape"
   ]
  },
  {
   "cell_type": "code",
   "execution_count": 17,
   "id": "9dc4dfbc",
   "metadata": {},
   "outputs": [
    {
     "data": {
      "text/html": [
       "<div>\n",
       "<style scoped>\n",
       "    .dataframe tbody tr th:only-of-type {\n",
       "        vertical-align: middle;\n",
       "    }\n",
       "\n",
       "    .dataframe tbody tr th {\n",
       "        vertical-align: top;\n",
       "    }\n",
       "\n",
       "    .dataframe thead th {\n",
       "        text-align: right;\n",
       "    }\n",
       "</style>\n",
       "<table border=\"1\" class=\"dataframe\">\n",
       "  <thead>\n",
       "    <tr style=\"text-align: right;\">\n",
       "      <th></th>\n",
       "      <th>Unnamed: 0</th>\n",
       "      <th>Date</th>\n",
       "      <th>Market</th>\n",
       "      <th>Category</th>\n",
       "      <th>Commodity</th>\n",
       "      <th>Unit</th>\n",
       "      <th>PriceFlag</th>\n",
       "      <th>PriceType</th>\n",
       "      <th>Currency</th>\n",
       "      <th>Price</th>\n",
       "      <th>USD_Price</th>\n",
       "    </tr>\n",
       "  </thead>\n",
       "  <tbody>\n",
       "    <tr>\n",
       "      <th>0</th>\n",
       "      <td>1</td>\n",
       "      <td>1994-01-15</td>\n",
       "      <td>Delhi</td>\n",
       "      <td>cereals and tubers</td>\n",
       "      <td>Rice</td>\n",
       "      <td>KG</td>\n",
       "      <td>actual</td>\n",
       "      <td>Retail</td>\n",
       "      <td>INR</td>\n",
       "      <td>8.0</td>\n",
       "      <td>0.2545</td>\n",
       "    </tr>\n",
       "    <tr>\n",
       "      <th>1</th>\n",
       "      <td>2</td>\n",
       "      <td>1994-01-15</td>\n",
       "      <td>Delhi</td>\n",
       "      <td>cereals and tubers</td>\n",
       "      <td>Wheat</td>\n",
       "      <td>KG</td>\n",
       "      <td>actual</td>\n",
       "      <td>Retail</td>\n",
       "      <td>INR</td>\n",
       "      <td>5.0</td>\n",
       "      <td>0.1590</td>\n",
       "    </tr>\n",
       "    <tr>\n",
       "      <th>2</th>\n",
       "      <td>3</td>\n",
       "      <td>1994-01-15</td>\n",
       "      <td>Delhi</td>\n",
       "      <td>miscellaneous food</td>\n",
       "      <td>Sugar</td>\n",
       "      <td>KG</td>\n",
       "      <td>actual</td>\n",
       "      <td>Retail</td>\n",
       "      <td>INR</td>\n",
       "      <td>13.5</td>\n",
       "      <td>0.4294</td>\n",
       "    </tr>\n",
       "  </tbody>\n",
       "</table>\n",
       "</div>"
      ],
      "text/plain": [
       "   Unnamed: 0        Date Market            Category Commodity Unit PriceFlag  \\\n",
       "0           1  1994-01-15  Delhi  cereals and tubers      Rice   KG    actual   \n",
       "1           2  1994-01-15  Delhi  cereals and tubers     Wheat   KG    actual   \n",
       "2           3  1994-01-15  Delhi  miscellaneous food     Sugar   KG    actual   \n",
       "\n",
       "  PriceType Currency  Price  USD_Price  \n",
       "0    Retail      INR    8.0     0.2545  \n",
       "1    Retail      INR    5.0     0.1590  \n",
       "2    Retail      INR   13.5     0.4294  "
      ]
     },
     "execution_count": 17,
     "metadata": {},
     "output_type": "execute_result"
    }
   ],
   "source": [
    "df.head(3)"
   ]
  },
  {
   "cell_type": "code",
   "execution_count": 18,
   "id": "9a014622",
   "metadata": {},
   "outputs": [],
   "source": [
    "df.drop(\"Unnamed: 0\",axis=1,inplace=True)"
   ]
  },
  {
   "cell_type": "code",
   "execution_count": 19,
   "id": "6cdcf57f",
   "metadata": {},
   "outputs": [
    {
     "data": {
      "text/html": [
       "<div>\n",
       "<style scoped>\n",
       "    .dataframe tbody tr th:only-of-type {\n",
       "        vertical-align: middle;\n",
       "    }\n",
       "\n",
       "    .dataframe tbody tr th {\n",
       "        vertical-align: top;\n",
       "    }\n",
       "\n",
       "    .dataframe thead th {\n",
       "        text-align: right;\n",
       "    }\n",
       "</style>\n",
       "<table border=\"1\" class=\"dataframe\">\n",
       "  <thead>\n",
       "    <tr style=\"text-align: right;\">\n",
       "      <th></th>\n",
       "      <th>Date</th>\n",
       "      <th>Market</th>\n",
       "      <th>Category</th>\n",
       "      <th>Commodity</th>\n",
       "      <th>Unit</th>\n",
       "      <th>PriceFlag</th>\n",
       "      <th>PriceType</th>\n",
       "      <th>Currency</th>\n",
       "      <th>Price</th>\n",
       "      <th>USD_Price</th>\n",
       "    </tr>\n",
       "  </thead>\n",
       "  <tbody>\n",
       "    <tr>\n",
       "      <th>0</th>\n",
       "      <td>1994-01-15</td>\n",
       "      <td>Delhi</td>\n",
       "      <td>cereals and tubers</td>\n",
       "      <td>Rice</td>\n",
       "      <td>KG</td>\n",
       "      <td>actual</td>\n",
       "      <td>Retail</td>\n",
       "      <td>INR</td>\n",
       "      <td>8.0</td>\n",
       "      <td>0.2545</td>\n",
       "    </tr>\n",
       "    <tr>\n",
       "      <th>1</th>\n",
       "      <td>1994-01-15</td>\n",
       "      <td>Delhi</td>\n",
       "      <td>cereals and tubers</td>\n",
       "      <td>Wheat</td>\n",
       "      <td>KG</td>\n",
       "      <td>actual</td>\n",
       "      <td>Retail</td>\n",
       "      <td>INR</td>\n",
       "      <td>5.0</td>\n",
       "      <td>0.1590</td>\n",
       "    </tr>\n",
       "  </tbody>\n",
       "</table>\n",
       "</div>"
      ],
      "text/plain": [
       "         Date Market            Category Commodity Unit PriceFlag PriceType  \\\n",
       "0  1994-01-15  Delhi  cereals and tubers      Rice   KG    actual    Retail   \n",
       "1  1994-01-15  Delhi  cereals and tubers     Wheat   KG    actual    Retail   \n",
       "\n",
       "  Currency  Price  USD_Price  \n",
       "0      INR    8.0     0.2545  \n",
       "1      INR    5.0     0.1590  "
      ]
     },
     "execution_count": 19,
     "metadata": {},
     "output_type": "execute_result"
    }
   ],
   "source": [
    "df.head(2)"
   ]
  },
  {
   "cell_type": "code",
   "execution_count": 20,
   "id": "f220976f",
   "metadata": {},
   "outputs": [],
   "source": [
    "df[\"Year\"]=df[\"Date\"].apply(lambda x:x[0:4])"
   ]
  },
  {
   "cell_type": "code",
   "execution_count": 21,
   "id": "6fece964",
   "metadata": {},
   "outputs": [
    {
     "data": {
      "text/html": [
       "<div>\n",
       "<style scoped>\n",
       "    .dataframe tbody tr th:only-of-type {\n",
       "        vertical-align: middle;\n",
       "    }\n",
       "\n",
       "    .dataframe tbody tr th {\n",
       "        vertical-align: top;\n",
       "    }\n",
       "\n",
       "    .dataframe thead th {\n",
       "        text-align: right;\n",
       "    }\n",
       "</style>\n",
       "<table border=\"1\" class=\"dataframe\">\n",
       "  <thead>\n",
       "    <tr style=\"text-align: right;\">\n",
       "      <th></th>\n",
       "      <th>Date</th>\n",
       "      <th>Market</th>\n",
       "      <th>Category</th>\n",
       "      <th>Commodity</th>\n",
       "      <th>Unit</th>\n",
       "      <th>PriceFlag</th>\n",
       "      <th>PriceType</th>\n",
       "      <th>Currency</th>\n",
       "      <th>Price</th>\n",
       "      <th>USD_Price</th>\n",
       "      <th>Year</th>\n",
       "    </tr>\n",
       "  </thead>\n",
       "  <tbody>\n",
       "  </tbody>\n",
       "</table>\n",
       "</div>"
      ],
      "text/plain": [
       "Empty DataFrame\n",
       "Columns: [Date, Market, Category, Commodity, Unit, PriceFlag, PriceType, Currency, Price, USD_Price, Year]\n",
       "Index: []"
      ]
     },
     "execution_count": 21,
     "metadata": {},
     "output_type": "execute_result"
    }
   ],
   "source": [
    "df[df.duplicated()]"
   ]
  },
  {
   "cell_type": "code",
   "execution_count": 22,
   "id": "02e57b07",
   "metadata": {},
   "outputs": [
    {
     "data": {
      "text/html": [
       "<div>\n",
       "<style scoped>\n",
       "    .dataframe tbody tr th:only-of-type {\n",
       "        vertical-align: middle;\n",
       "    }\n",
       "\n",
       "    .dataframe tbody tr th {\n",
       "        vertical-align: top;\n",
       "    }\n",
       "\n",
       "    .dataframe thead th {\n",
       "        text-align: right;\n",
       "    }\n",
       "</style>\n",
       "<table border=\"1\" class=\"dataframe\">\n",
       "  <thead>\n",
       "    <tr style=\"text-align: right;\">\n",
       "      <th></th>\n",
       "      <th>Date</th>\n",
       "      <th>Market</th>\n",
       "      <th>Category</th>\n",
       "      <th>Commodity</th>\n",
       "      <th>Unit</th>\n",
       "      <th>PriceFlag</th>\n",
       "      <th>PriceType</th>\n",
       "      <th>Currency</th>\n",
       "      <th>Price</th>\n",
       "      <th>USD_Price</th>\n",
       "      <th>Year</th>\n",
       "    </tr>\n",
       "  </thead>\n",
       "  <tbody>\n",
       "    <tr>\n",
       "      <th>0</th>\n",
       "      <td>1994-01-15</td>\n",
       "      <td>Delhi</td>\n",
       "      <td>cereals and tubers</td>\n",
       "      <td>Rice</td>\n",
       "      <td>KG</td>\n",
       "      <td>actual</td>\n",
       "      <td>Retail</td>\n",
       "      <td>INR</td>\n",
       "      <td>8.0</td>\n",
       "      <td>0.2545</td>\n",
       "      <td>1994</td>\n",
       "    </tr>\n",
       "    <tr>\n",
       "      <th>1</th>\n",
       "      <td>1994-01-15</td>\n",
       "      <td>Delhi</td>\n",
       "      <td>cereals and tubers</td>\n",
       "      <td>Wheat</td>\n",
       "      <td>KG</td>\n",
       "      <td>actual</td>\n",
       "      <td>Retail</td>\n",
       "      <td>INR</td>\n",
       "      <td>5.0</td>\n",
       "      <td>0.1590</td>\n",
       "      <td>1994</td>\n",
       "    </tr>\n",
       "    <tr>\n",
       "      <th>2</th>\n",
       "      <td>1994-01-15</td>\n",
       "      <td>Delhi</td>\n",
       "      <td>miscellaneous food</td>\n",
       "      <td>Sugar</td>\n",
       "      <td>KG</td>\n",
       "      <td>actual</td>\n",
       "      <td>Retail</td>\n",
       "      <td>INR</td>\n",
       "      <td>13.5</td>\n",
       "      <td>0.4294</td>\n",
       "      <td>1994</td>\n",
       "    </tr>\n",
       "    <tr>\n",
       "      <th>3</th>\n",
       "      <td>1994-01-15</td>\n",
       "      <td>Delhi</td>\n",
       "      <td>oil and fats</td>\n",
       "      <td>Oil (mustard)</td>\n",
       "      <td>KG</td>\n",
       "      <td>actual</td>\n",
       "      <td>Retail</td>\n",
       "      <td>INR</td>\n",
       "      <td>31.0</td>\n",
       "      <td>0.9860</td>\n",
       "      <td>1994</td>\n",
       "    </tr>\n",
       "    <tr>\n",
       "      <th>4</th>\n",
       "      <td>1994-01-15</td>\n",
       "      <td>Ahmedabad</td>\n",
       "      <td>cereals and tubers</td>\n",
       "      <td>Rice</td>\n",
       "      <td>KG</td>\n",
       "      <td>actual</td>\n",
       "      <td>Retail</td>\n",
       "      <td>INR</td>\n",
       "      <td>6.8</td>\n",
       "      <td>0.2163</td>\n",
       "      <td>1994</td>\n",
       "    </tr>\n",
       "  </tbody>\n",
       "</table>\n",
       "</div>"
      ],
      "text/plain": [
       "         Date     Market            Category      Commodity Unit PriceFlag  \\\n",
       "0  1994-01-15      Delhi  cereals and tubers           Rice   KG    actual   \n",
       "1  1994-01-15      Delhi  cereals and tubers          Wheat   KG    actual   \n",
       "2  1994-01-15      Delhi  miscellaneous food          Sugar   KG    actual   \n",
       "3  1994-01-15      Delhi        oil and fats  Oil (mustard)   KG    actual   \n",
       "4  1994-01-15  Ahmedabad  cereals and tubers           Rice   KG    actual   \n",
       "\n",
       "  PriceType Currency  Price  USD_Price  Year  \n",
       "0    Retail      INR    8.0     0.2545  1994  \n",
       "1    Retail      INR    5.0     0.1590  1994  \n",
       "2    Retail      INR   13.5     0.4294  1994  \n",
       "3    Retail      INR   31.0     0.9860  1994  \n",
       "4    Retail      INR    6.8     0.2163  1994  "
      ]
     },
     "execution_count": 22,
     "metadata": {},
     "output_type": "execute_result"
    }
   ],
   "source": [
    "df.head()"
   ]
  },
  {
   "cell_type": "code",
   "execution_count": 23,
   "id": "bcd7238e",
   "metadata": {},
   "outputs": [],
   "source": [
    "df[\"Month\"]=df[\"Date\"].apply(lambda x:x[5:7])\n"
   ]
  },
  {
   "cell_type": "code",
   "execution_count": 24,
   "id": "40b2988f",
   "metadata": {},
   "outputs": [
    {
     "data": {
      "text/html": [
       "<div>\n",
       "<style scoped>\n",
       "    .dataframe tbody tr th:only-of-type {\n",
       "        vertical-align: middle;\n",
       "    }\n",
       "\n",
       "    .dataframe tbody tr th {\n",
       "        vertical-align: top;\n",
       "    }\n",
       "\n",
       "    .dataframe thead th {\n",
       "        text-align: right;\n",
       "    }\n",
       "</style>\n",
       "<table border=\"1\" class=\"dataframe\">\n",
       "  <thead>\n",
       "    <tr style=\"text-align: right;\">\n",
       "      <th></th>\n",
       "      <th>Date</th>\n",
       "      <th>Market</th>\n",
       "      <th>Category</th>\n",
       "      <th>Commodity</th>\n",
       "      <th>Unit</th>\n",
       "      <th>PriceFlag</th>\n",
       "      <th>PriceType</th>\n",
       "      <th>Currency</th>\n",
       "      <th>Price</th>\n",
       "      <th>USD_Price</th>\n",
       "      <th>Year</th>\n",
       "      <th>Month</th>\n",
       "    </tr>\n",
       "  </thead>\n",
       "  <tbody>\n",
       "    <tr>\n",
       "      <th>0</th>\n",
       "      <td>1994-01-15</td>\n",
       "      <td>Delhi</td>\n",
       "      <td>cereals and tubers</td>\n",
       "      <td>Rice</td>\n",
       "      <td>KG</td>\n",
       "      <td>actual</td>\n",
       "      <td>Retail</td>\n",
       "      <td>INR</td>\n",
       "      <td>8.0</td>\n",
       "      <td>0.2545</td>\n",
       "      <td>1994</td>\n",
       "      <td>01</td>\n",
       "    </tr>\n",
       "    <tr>\n",
       "      <th>1</th>\n",
       "      <td>1994-01-15</td>\n",
       "      <td>Delhi</td>\n",
       "      <td>cereals and tubers</td>\n",
       "      <td>Wheat</td>\n",
       "      <td>KG</td>\n",
       "      <td>actual</td>\n",
       "      <td>Retail</td>\n",
       "      <td>INR</td>\n",
       "      <td>5.0</td>\n",
       "      <td>0.1590</td>\n",
       "      <td>1994</td>\n",
       "      <td>01</td>\n",
       "    </tr>\n",
       "    <tr>\n",
       "      <th>2</th>\n",
       "      <td>1994-01-15</td>\n",
       "      <td>Delhi</td>\n",
       "      <td>miscellaneous food</td>\n",
       "      <td>Sugar</td>\n",
       "      <td>KG</td>\n",
       "      <td>actual</td>\n",
       "      <td>Retail</td>\n",
       "      <td>INR</td>\n",
       "      <td>13.5</td>\n",
       "      <td>0.4294</td>\n",
       "      <td>1994</td>\n",
       "      <td>01</td>\n",
       "    </tr>\n",
       "    <tr>\n",
       "      <th>3</th>\n",
       "      <td>1994-01-15</td>\n",
       "      <td>Delhi</td>\n",
       "      <td>oil and fats</td>\n",
       "      <td>Oil (mustard)</td>\n",
       "      <td>KG</td>\n",
       "      <td>actual</td>\n",
       "      <td>Retail</td>\n",
       "      <td>INR</td>\n",
       "      <td>31.0</td>\n",
       "      <td>0.9860</td>\n",
       "      <td>1994</td>\n",
       "      <td>01</td>\n",
       "    </tr>\n",
       "    <tr>\n",
       "      <th>4</th>\n",
       "      <td>1994-01-15</td>\n",
       "      <td>Ahmedabad</td>\n",
       "      <td>cereals and tubers</td>\n",
       "      <td>Rice</td>\n",
       "      <td>KG</td>\n",
       "      <td>actual</td>\n",
       "      <td>Retail</td>\n",
       "      <td>INR</td>\n",
       "      <td>6.8</td>\n",
       "      <td>0.2163</td>\n",
       "      <td>1994</td>\n",
       "      <td>01</td>\n",
       "    </tr>\n",
       "  </tbody>\n",
       "</table>\n",
       "</div>"
      ],
      "text/plain": [
       "         Date     Market            Category      Commodity Unit PriceFlag  \\\n",
       "0  1994-01-15      Delhi  cereals and tubers           Rice   KG    actual   \n",
       "1  1994-01-15      Delhi  cereals and tubers          Wheat   KG    actual   \n",
       "2  1994-01-15      Delhi  miscellaneous food          Sugar   KG    actual   \n",
       "3  1994-01-15      Delhi        oil and fats  Oil (mustard)   KG    actual   \n",
       "4  1994-01-15  Ahmedabad  cereals and tubers           Rice   KG    actual   \n",
       "\n",
       "  PriceType Currency  Price  USD_Price  Year Month  \n",
       "0    Retail      INR    8.0     0.2545  1994    01  \n",
       "1    Retail      INR    5.0     0.1590  1994    01  \n",
       "2    Retail      INR   13.5     0.4294  1994    01  \n",
       "3    Retail      INR   31.0     0.9860  1994    01  \n",
       "4    Retail      INR    6.8     0.2163  1994    01  "
      ]
     },
     "execution_count": 24,
     "metadata": {},
     "output_type": "execute_result"
    }
   ],
   "source": [
    "df.head(5)"
   ]
  },
  {
   "cell_type": "code",
   "execution_count": 25,
   "id": "2edaa313",
   "metadata": {},
   "outputs": [],
   "source": [
    "df.drop([\"PriceFlag\",\"Date\"],axis=1,inplace=True)"
   ]
  },
  {
   "cell_type": "code",
   "execution_count": 26,
   "id": "e4006c0d",
   "metadata": {},
   "outputs": [
    {
     "data": {
      "text/html": [
       "<div>\n",
       "<style scoped>\n",
       "    .dataframe tbody tr th:only-of-type {\n",
       "        vertical-align: middle;\n",
       "    }\n",
       "\n",
       "    .dataframe tbody tr th {\n",
       "        vertical-align: top;\n",
       "    }\n",
       "\n",
       "    .dataframe thead th {\n",
       "        text-align: right;\n",
       "    }\n",
       "</style>\n",
       "<table border=\"1\" class=\"dataframe\">\n",
       "  <thead>\n",
       "    <tr style=\"text-align: right;\">\n",
       "      <th></th>\n",
       "      <th>Market</th>\n",
       "      <th>Category</th>\n",
       "      <th>Commodity</th>\n",
       "      <th>Unit</th>\n",
       "      <th>PriceType</th>\n",
       "      <th>Currency</th>\n",
       "      <th>Price</th>\n",
       "      <th>USD_Price</th>\n",
       "      <th>Year</th>\n",
       "      <th>Month</th>\n",
       "    </tr>\n",
       "  </thead>\n",
       "  <tbody>\n",
       "    <tr>\n",
       "      <th>0</th>\n",
       "      <td>Delhi</td>\n",
       "      <td>cereals and tubers</td>\n",
       "      <td>Rice</td>\n",
       "      <td>KG</td>\n",
       "      <td>Retail</td>\n",
       "      <td>INR</td>\n",
       "      <td>8.0</td>\n",
       "      <td>0.2545</td>\n",
       "      <td>1994</td>\n",
       "      <td>01</td>\n",
       "    </tr>\n",
       "    <tr>\n",
       "      <th>1</th>\n",
       "      <td>Delhi</td>\n",
       "      <td>cereals and tubers</td>\n",
       "      <td>Wheat</td>\n",
       "      <td>KG</td>\n",
       "      <td>Retail</td>\n",
       "      <td>INR</td>\n",
       "      <td>5.0</td>\n",
       "      <td>0.1590</td>\n",
       "      <td>1994</td>\n",
       "      <td>01</td>\n",
       "    </tr>\n",
       "  </tbody>\n",
       "</table>\n",
       "</div>"
      ],
      "text/plain": [
       "  Market            Category Commodity Unit PriceType Currency  Price  \\\n",
       "0  Delhi  cereals and tubers      Rice   KG    Retail      INR    8.0   \n",
       "1  Delhi  cereals and tubers     Wheat   KG    Retail      INR    5.0   \n",
       "\n",
       "   USD_Price  Year Month  \n",
       "0     0.2545  1994    01  \n",
       "1     0.1590  1994    01  "
      ]
     },
     "execution_count": 26,
     "metadata": {},
     "output_type": "execute_result"
    }
   ],
   "source": [
    "df.head(2)"
   ]
  },
  {
   "cell_type": "code",
   "execution_count": 27,
   "id": "b47f5b40",
   "metadata": {},
   "outputs": [],
   "source": [
    "df.drop([\"Currency\"],axis=1,inplace=True)"
   ]
  },
  {
   "cell_type": "code",
   "execution_count": 28,
   "id": "13ce90ef",
   "metadata": {},
   "outputs": [
    {
     "data": {
      "text/html": [
       "<div>\n",
       "<style scoped>\n",
       "    .dataframe tbody tr th:only-of-type {\n",
       "        vertical-align: middle;\n",
       "    }\n",
       "\n",
       "    .dataframe tbody tr th {\n",
       "        vertical-align: top;\n",
       "    }\n",
       "\n",
       "    .dataframe thead th {\n",
       "        text-align: right;\n",
       "    }\n",
       "</style>\n",
       "<table border=\"1\" class=\"dataframe\">\n",
       "  <thead>\n",
       "    <tr style=\"text-align: right;\">\n",
       "      <th></th>\n",
       "      <th>Market</th>\n",
       "      <th>Category</th>\n",
       "      <th>Commodity</th>\n",
       "      <th>Unit</th>\n",
       "      <th>PriceType</th>\n",
       "      <th>Price</th>\n",
       "      <th>USD_Price</th>\n",
       "      <th>Year</th>\n",
       "      <th>Month</th>\n",
       "    </tr>\n",
       "  </thead>\n",
       "  <tbody>\n",
       "    <tr>\n",
       "      <th>0</th>\n",
       "      <td>Delhi</td>\n",
       "      <td>cereals and tubers</td>\n",
       "      <td>Rice</td>\n",
       "      <td>KG</td>\n",
       "      <td>Retail</td>\n",
       "      <td>8.0</td>\n",
       "      <td>0.2545</td>\n",
       "      <td>1994</td>\n",
       "      <td>01</td>\n",
       "    </tr>\n",
       "    <tr>\n",
       "      <th>1</th>\n",
       "      <td>Delhi</td>\n",
       "      <td>cereals and tubers</td>\n",
       "      <td>Wheat</td>\n",
       "      <td>KG</td>\n",
       "      <td>Retail</td>\n",
       "      <td>5.0</td>\n",
       "      <td>0.1590</td>\n",
       "      <td>1994</td>\n",
       "      <td>01</td>\n",
       "    </tr>\n",
       "    <tr>\n",
       "      <th>2</th>\n",
       "      <td>Delhi</td>\n",
       "      <td>miscellaneous food</td>\n",
       "      <td>Sugar</td>\n",
       "      <td>KG</td>\n",
       "      <td>Retail</td>\n",
       "      <td>13.5</td>\n",
       "      <td>0.4294</td>\n",
       "      <td>1994</td>\n",
       "      <td>01</td>\n",
       "    </tr>\n",
       "    <tr>\n",
       "      <th>3</th>\n",
       "      <td>Delhi</td>\n",
       "      <td>oil and fats</td>\n",
       "      <td>Oil (mustard)</td>\n",
       "      <td>KG</td>\n",
       "      <td>Retail</td>\n",
       "      <td>31.0</td>\n",
       "      <td>0.9860</td>\n",
       "      <td>1994</td>\n",
       "      <td>01</td>\n",
       "    </tr>\n",
       "    <tr>\n",
       "      <th>4</th>\n",
       "      <td>Ahmedabad</td>\n",
       "      <td>cereals and tubers</td>\n",
       "      <td>Rice</td>\n",
       "      <td>KG</td>\n",
       "      <td>Retail</td>\n",
       "      <td>6.8</td>\n",
       "      <td>0.2163</td>\n",
       "      <td>1994</td>\n",
       "      <td>01</td>\n",
       "    </tr>\n",
       "  </tbody>\n",
       "</table>\n",
       "</div>"
      ],
      "text/plain": [
       "      Market            Category      Commodity Unit PriceType  Price  \\\n",
       "0      Delhi  cereals and tubers           Rice   KG    Retail    8.0   \n",
       "1      Delhi  cereals and tubers          Wheat   KG    Retail    5.0   \n",
       "2      Delhi  miscellaneous food          Sugar   KG    Retail   13.5   \n",
       "3      Delhi        oil and fats  Oil (mustard)   KG    Retail   31.0   \n",
       "4  Ahmedabad  cereals and tubers           Rice   KG    Retail    6.8   \n",
       "\n",
       "   USD_Price  Year Month  \n",
       "0     0.2545  1994    01  \n",
       "1     0.1590  1994    01  \n",
       "2     0.4294  1994    01  \n",
       "3     0.9860  1994    01  \n",
       "4     0.2163  1994    01  "
      ]
     },
     "execution_count": 28,
     "metadata": {},
     "output_type": "execute_result"
    }
   ],
   "source": [
    "df.head()"
   ]
  },
  {
   "cell_type": "code",
   "execution_count": 29,
   "id": "1e409191",
   "metadata": {},
   "outputs": [],
   "source": [
    "df=df.rename(columns={\"Price\":\"INR_Price\"})"
   ]
  },
  {
   "cell_type": "code",
   "execution_count": 30,
   "id": "8185434b",
   "metadata": {},
   "outputs": [
    {
     "data": {
      "text/html": [
       "<div>\n",
       "<style scoped>\n",
       "    .dataframe tbody tr th:only-of-type {\n",
       "        vertical-align: middle;\n",
       "    }\n",
       "\n",
       "    .dataframe tbody tr th {\n",
       "        vertical-align: top;\n",
       "    }\n",
       "\n",
       "    .dataframe thead th {\n",
       "        text-align: right;\n",
       "    }\n",
       "</style>\n",
       "<table border=\"1\" class=\"dataframe\">\n",
       "  <thead>\n",
       "    <tr style=\"text-align: right;\">\n",
       "      <th></th>\n",
       "      <th>Market</th>\n",
       "      <th>Category</th>\n",
       "      <th>Commodity</th>\n",
       "      <th>Unit</th>\n",
       "      <th>PriceType</th>\n",
       "      <th>INR_Price</th>\n",
       "      <th>USD_Price</th>\n",
       "      <th>Year</th>\n",
       "      <th>Month</th>\n",
       "    </tr>\n",
       "  </thead>\n",
       "  <tbody>\n",
       "    <tr>\n",
       "      <th>0</th>\n",
       "      <td>Delhi</td>\n",
       "      <td>cereals and tubers</td>\n",
       "      <td>Rice</td>\n",
       "      <td>KG</td>\n",
       "      <td>Retail</td>\n",
       "      <td>8.0</td>\n",
       "      <td>0.2545</td>\n",
       "      <td>1994</td>\n",
       "      <td>01</td>\n",
       "    </tr>\n",
       "    <tr>\n",
       "      <th>1</th>\n",
       "      <td>Delhi</td>\n",
       "      <td>cereals and tubers</td>\n",
       "      <td>Wheat</td>\n",
       "      <td>KG</td>\n",
       "      <td>Retail</td>\n",
       "      <td>5.0</td>\n",
       "      <td>0.1590</td>\n",
       "      <td>1994</td>\n",
       "      <td>01</td>\n",
       "    </tr>\n",
       "    <tr>\n",
       "      <th>2</th>\n",
       "      <td>Delhi</td>\n",
       "      <td>miscellaneous food</td>\n",
       "      <td>Sugar</td>\n",
       "      <td>KG</td>\n",
       "      <td>Retail</td>\n",
       "      <td>13.5</td>\n",
       "      <td>0.4294</td>\n",
       "      <td>1994</td>\n",
       "      <td>01</td>\n",
       "    </tr>\n",
       "    <tr>\n",
       "      <th>3</th>\n",
       "      <td>Delhi</td>\n",
       "      <td>oil and fats</td>\n",
       "      <td>Oil (mustard)</td>\n",
       "      <td>KG</td>\n",
       "      <td>Retail</td>\n",
       "      <td>31.0</td>\n",
       "      <td>0.9860</td>\n",
       "      <td>1994</td>\n",
       "      <td>01</td>\n",
       "    </tr>\n",
       "    <tr>\n",
       "      <th>4</th>\n",
       "      <td>Ahmedabad</td>\n",
       "      <td>cereals and tubers</td>\n",
       "      <td>Rice</td>\n",
       "      <td>KG</td>\n",
       "      <td>Retail</td>\n",
       "      <td>6.8</td>\n",
       "      <td>0.2163</td>\n",
       "      <td>1994</td>\n",
       "      <td>01</td>\n",
       "    </tr>\n",
       "  </tbody>\n",
       "</table>\n",
       "</div>"
      ],
      "text/plain": [
       "      Market            Category      Commodity Unit PriceType  INR_Price  \\\n",
       "0      Delhi  cereals and tubers           Rice   KG    Retail        8.0   \n",
       "1      Delhi  cereals and tubers          Wheat   KG    Retail        5.0   \n",
       "2      Delhi  miscellaneous food          Sugar   KG    Retail       13.5   \n",
       "3      Delhi        oil and fats  Oil (mustard)   KG    Retail       31.0   \n",
       "4  Ahmedabad  cereals and tubers           Rice   KG    Retail        6.8   \n",
       "\n",
       "   USD_Price  Year Month  \n",
       "0     0.2545  1994    01  \n",
       "1     0.1590  1994    01  \n",
       "2     0.4294  1994    01  \n",
       "3     0.9860  1994    01  \n",
       "4     0.2163  1994    01  "
      ]
     },
     "execution_count": 30,
     "metadata": {},
     "output_type": "execute_result"
    }
   ],
   "source": [
    "df.head()"
   ]
  },
  {
   "cell_type": "code",
   "execution_count": 31,
   "id": "0f906100",
   "metadata": {},
   "outputs": [
    {
     "data": {
      "text/plain": [
       "array(['KG', '100 KG', 'L'], dtype=object)"
      ]
     },
     "execution_count": 31,
     "metadata": {},
     "output_type": "execute_result"
    }
   ],
   "source": [
    "df.Unit.unique()"
   ]
  },
  {
   "cell_type": "code",
   "execution_count": 32,
   "id": "530716c9",
   "metadata": {},
   "outputs": [],
   "source": [
    "df[\"Unit\"].replace(\"KG\",\"1\",inplace=True)\n",
    "df[\"Unit\"].replace(\"L\",\"1\",inplace=True)\n",
    "df[\"Unit\"].replace(\"100 KG\",\"100\",inplace=True)"
   ]
  },
  {
   "cell_type": "code",
   "execution_count": 33,
   "id": "a0f5a1a8",
   "metadata": {},
   "outputs": [
    {
     "data": {
      "text/html": [
       "<div>\n",
       "<style scoped>\n",
       "    .dataframe tbody tr th:only-of-type {\n",
       "        vertical-align: middle;\n",
       "    }\n",
       "\n",
       "    .dataframe tbody tr th {\n",
       "        vertical-align: top;\n",
       "    }\n",
       "\n",
       "    .dataframe thead th {\n",
       "        text-align: right;\n",
       "    }\n",
       "</style>\n",
       "<table border=\"1\" class=\"dataframe\">\n",
       "  <thead>\n",
       "    <tr style=\"text-align: right;\">\n",
       "      <th></th>\n",
       "      <th>Market</th>\n",
       "      <th>Category</th>\n",
       "      <th>Commodity</th>\n",
       "      <th>Unit</th>\n",
       "      <th>PriceType</th>\n",
       "      <th>INR_Price</th>\n",
       "      <th>USD_Price</th>\n",
       "      <th>Year</th>\n",
       "      <th>Month</th>\n",
       "    </tr>\n",
       "  </thead>\n",
       "  <tbody>\n",
       "    <tr>\n",
       "      <th>0</th>\n",
       "      <td>Delhi</td>\n",
       "      <td>cereals and tubers</td>\n",
       "      <td>Rice</td>\n",
       "      <td>1</td>\n",
       "      <td>Retail</td>\n",
       "      <td>8.0</td>\n",
       "      <td>0.2545</td>\n",
       "      <td>1994</td>\n",
       "      <td>01</td>\n",
       "    </tr>\n",
       "    <tr>\n",
       "      <th>1</th>\n",
       "      <td>Delhi</td>\n",
       "      <td>cereals and tubers</td>\n",
       "      <td>Wheat</td>\n",
       "      <td>1</td>\n",
       "      <td>Retail</td>\n",
       "      <td>5.0</td>\n",
       "      <td>0.1590</td>\n",
       "      <td>1994</td>\n",
       "      <td>01</td>\n",
       "    </tr>\n",
       "    <tr>\n",
       "      <th>2</th>\n",
       "      <td>Delhi</td>\n",
       "      <td>miscellaneous food</td>\n",
       "      <td>Sugar</td>\n",
       "      <td>1</td>\n",
       "      <td>Retail</td>\n",
       "      <td>13.5</td>\n",
       "      <td>0.4294</td>\n",
       "      <td>1994</td>\n",
       "      <td>01</td>\n",
       "    </tr>\n",
       "    <tr>\n",
       "      <th>3</th>\n",
       "      <td>Delhi</td>\n",
       "      <td>oil and fats</td>\n",
       "      <td>Oil (mustard)</td>\n",
       "      <td>1</td>\n",
       "      <td>Retail</td>\n",
       "      <td>31.0</td>\n",
       "      <td>0.9860</td>\n",
       "      <td>1994</td>\n",
       "      <td>01</td>\n",
       "    </tr>\n",
       "    <tr>\n",
       "      <th>4</th>\n",
       "      <td>Ahmedabad</td>\n",
       "      <td>cereals and tubers</td>\n",
       "      <td>Rice</td>\n",
       "      <td>1</td>\n",
       "      <td>Retail</td>\n",
       "      <td>6.8</td>\n",
       "      <td>0.2163</td>\n",
       "      <td>1994</td>\n",
       "      <td>01</td>\n",
       "    </tr>\n",
       "  </tbody>\n",
       "</table>\n",
       "</div>"
      ],
      "text/plain": [
       "      Market            Category      Commodity Unit PriceType  INR_Price  \\\n",
       "0      Delhi  cereals and tubers           Rice    1    Retail        8.0   \n",
       "1      Delhi  cereals and tubers          Wheat    1    Retail        5.0   \n",
       "2      Delhi  miscellaneous food          Sugar    1    Retail       13.5   \n",
       "3      Delhi        oil and fats  Oil (mustard)    1    Retail       31.0   \n",
       "4  Ahmedabad  cereals and tubers           Rice    1    Retail        6.8   \n",
       "\n",
       "   USD_Price  Year Month  \n",
       "0     0.2545  1994    01  \n",
       "1     0.1590  1994    01  \n",
       "2     0.4294  1994    01  \n",
       "3     0.9860  1994    01  \n",
       "4     0.2163  1994    01  "
      ]
     },
     "execution_count": 33,
     "metadata": {},
     "output_type": "execute_result"
    }
   ],
   "source": [
    "df.head()"
   ]
  },
  {
   "cell_type": "code",
   "execution_count": 34,
   "id": "4f696ca4",
   "metadata": {},
   "outputs": [
    {
     "data": {
      "text/plain": [
       "array(['1', '100'], dtype=object)"
      ]
     },
     "execution_count": 34,
     "metadata": {},
     "output_type": "execute_result"
    }
   ],
   "source": [
    "df.Unit.unique()"
   ]
  },
  {
   "cell_type": "code",
   "execution_count": 35,
   "id": "1e70b20b",
   "metadata": {},
   "outputs": [],
   "source": [
    "df[\"Unit\"]=df[\"Unit\"].apply(lambda x:int(x))"
   ]
  },
  {
   "cell_type": "code",
   "execution_count": 36,
   "id": "5a0ccafb",
   "metadata": {},
   "outputs": [
    {
     "data": {
      "text/plain": [
       "dtype('int64')"
      ]
     },
     "execution_count": 36,
     "metadata": {},
     "output_type": "execute_result"
    }
   ],
   "source": [
    "df[\"Unit\"].dtypes"
   ]
  },
  {
   "cell_type": "code",
   "execution_count": 37,
   "id": "1a442cae",
   "metadata": {},
   "outputs": [],
   "source": [
    "df[\"Per_unit_price\"]=df[\"INR_Price\"]/df[\"Unit\"]"
   ]
  },
  {
   "cell_type": "code",
   "execution_count": 38,
   "id": "0d2543e7",
   "metadata": {},
   "outputs": [
    {
     "data": {
      "text/plain": [
       "0     8.0\n",
       "1     5.0\n",
       "2    13.5\n",
       "3    31.0\n",
       "4     6.8\n",
       "Name: Per_unit_price, dtype: float64"
      ]
     },
     "execution_count": 38,
     "metadata": {},
     "output_type": "execute_result"
    }
   ],
   "source": [
    "df[\"Per_unit_price\"].head()"
   ]
  },
  {
   "cell_type": "code",
   "execution_count": 39,
   "id": "420b406e",
   "metadata": {},
   "outputs": [
    {
     "data": {
      "text/html": [
       "<div>\n",
       "<style scoped>\n",
       "    .dataframe tbody tr th:only-of-type {\n",
       "        vertical-align: middle;\n",
       "    }\n",
       "\n",
       "    .dataframe tbody tr th {\n",
       "        vertical-align: top;\n",
       "    }\n",
       "\n",
       "    .dataframe thead th {\n",
       "        text-align: right;\n",
       "    }\n",
       "</style>\n",
       "<table border=\"1\" class=\"dataframe\">\n",
       "  <thead>\n",
       "    <tr style=\"text-align: right;\">\n",
       "      <th></th>\n",
       "      <th>Market</th>\n",
       "      <th>Category</th>\n",
       "      <th>Commodity</th>\n",
       "      <th>Unit</th>\n",
       "      <th>PriceType</th>\n",
       "      <th>INR_Price</th>\n",
       "      <th>USD_Price</th>\n",
       "      <th>Year</th>\n",
       "      <th>Month</th>\n",
       "      <th>Per_unit_price</th>\n",
       "    </tr>\n",
       "  </thead>\n",
       "  <tbody>\n",
       "    <tr>\n",
       "      <th>2430</th>\n",
       "      <td>Patna</td>\n",
       "      <td>cereals and tubers</td>\n",
       "      <td>Rice</td>\n",
       "      <td>100</td>\n",
       "      <td>Wholesale</td>\n",
       "      <td>800.0</td>\n",
       "      <td>18.3697</td>\n",
       "      <td>2000</td>\n",
       "      <td>01</td>\n",
       "      <td>8.000</td>\n",
       "    </tr>\n",
       "    <tr>\n",
       "      <th>2432</th>\n",
       "      <td>Patna</td>\n",
       "      <td>cereals and tubers</td>\n",
       "      <td>Wheat</td>\n",
       "      <td>100</td>\n",
       "      <td>Wholesale</td>\n",
       "      <td>800.0</td>\n",
       "      <td>18.3697</td>\n",
       "      <td>2000</td>\n",
       "      <td>01</td>\n",
       "      <td>8.000</td>\n",
       "    </tr>\n",
       "    <tr>\n",
       "      <th>2437</th>\n",
       "      <td>Delhi</td>\n",
       "      <td>cereals and tubers</td>\n",
       "      <td>Rice</td>\n",
       "      <td>100</td>\n",
       "      <td>Wholesale</td>\n",
       "      <td>1075.0</td>\n",
       "      <td>24.6843</td>\n",
       "      <td>2000</td>\n",
       "      <td>01</td>\n",
       "      <td>10.750</td>\n",
       "    </tr>\n",
       "    <tr>\n",
       "      <th>2439</th>\n",
       "      <td>Delhi</td>\n",
       "      <td>cereals and tubers</td>\n",
       "      <td>Wheat</td>\n",
       "      <td>100</td>\n",
       "      <td>Wholesale</td>\n",
       "      <td>700.0</td>\n",
       "      <td>16.0735</td>\n",
       "      <td>2000</td>\n",
       "      <td>01</td>\n",
       "      <td>7.000</td>\n",
       "    </tr>\n",
       "    <tr>\n",
       "      <th>2461</th>\n",
       "      <td>Mumbai</td>\n",
       "      <td>cereals and tubers</td>\n",
       "      <td>Rice</td>\n",
       "      <td>100</td>\n",
       "      <td>Wholesale</td>\n",
       "      <td>1136.5</td>\n",
       "      <td>26.0964</td>\n",
       "      <td>2000</td>\n",
       "      <td>01</td>\n",
       "      <td>11.365</td>\n",
       "    </tr>\n",
       "    <tr>\n",
       "      <th>...</th>\n",
       "      <td>...</td>\n",
       "      <td>...</td>\n",
       "      <td>...</td>\n",
       "      <td>...</td>\n",
       "      <td>...</td>\n",
       "      <td>...</td>\n",
       "      <td>...</td>\n",
       "      <td>...</td>\n",
       "      <td>...</td>\n",
       "      <td>...</td>\n",
       "    </tr>\n",
       "    <tr>\n",
       "      <th>108596</th>\n",
       "      <td>Mumbai</td>\n",
       "      <td>cereals and tubers</td>\n",
       "      <td>Rice</td>\n",
       "      <td>100</td>\n",
       "      <td>Wholesale</td>\n",
       "      <td>2400.0</td>\n",
       "      <td>32.6619</td>\n",
       "      <td>2020</td>\n",
       "      <td>10</td>\n",
       "      <td>24.000</td>\n",
       "    </tr>\n",
       "    <tr>\n",
       "      <th>108598</th>\n",
       "      <td>Mumbai</td>\n",
       "      <td>cereals and tubers</td>\n",
       "      <td>Wheat</td>\n",
       "      <td>100</td>\n",
       "      <td>Wholesale</td>\n",
       "      <td>2775.0</td>\n",
       "      <td>37.7654</td>\n",
       "      <td>2020</td>\n",
       "      <td>10</td>\n",
       "      <td>27.750</td>\n",
       "    </tr>\n",
       "    <tr>\n",
       "      <th>108604</th>\n",
       "      <td>Mumbai</td>\n",
       "      <td>miscellaneous food</td>\n",
       "      <td>Sugar</td>\n",
       "      <td>100</td>\n",
       "      <td>Wholesale</td>\n",
       "      <td>3311.1</td>\n",
       "      <td>45.0612</td>\n",
       "      <td>2020</td>\n",
       "      <td>10</td>\n",
       "      <td>33.111</td>\n",
       "    </tr>\n",
       "    <tr>\n",
       "      <th>109081</th>\n",
       "      <td>Chennai</td>\n",
       "      <td>cereals and tubers</td>\n",
       "      <td>Rice</td>\n",
       "      <td>100</td>\n",
       "      <td>Wholesale</td>\n",
       "      <td>4780.0</td>\n",
       "      <td>65.0517</td>\n",
       "      <td>2020</td>\n",
       "      <td>10</td>\n",
       "      <td>47.800</td>\n",
       "    </tr>\n",
       "    <tr>\n",
       "      <th>109083</th>\n",
       "      <td>Chennai</td>\n",
       "      <td>cereals and tubers</td>\n",
       "      <td>Wheat</td>\n",
       "      <td>100</td>\n",
       "      <td>Wholesale</td>\n",
       "      <td>3140.0</td>\n",
       "      <td>42.7327</td>\n",
       "      <td>2020</td>\n",
       "      <td>10</td>\n",
       "      <td>31.400</td>\n",
       "    </tr>\n",
       "  </tbody>\n",
       "</table>\n",
       "<p>2277 rows × 10 columns</p>\n",
       "</div>"
      ],
      "text/plain": [
       "         Market            Category Commodity  Unit  PriceType  INR_Price  \\\n",
       "2430      Patna  cereals and tubers      Rice   100  Wholesale      800.0   \n",
       "2432      Patna  cereals and tubers     Wheat   100  Wholesale      800.0   \n",
       "2437      Delhi  cereals and tubers      Rice   100  Wholesale     1075.0   \n",
       "2439      Delhi  cereals and tubers     Wheat   100  Wholesale      700.0   \n",
       "2461     Mumbai  cereals and tubers      Rice   100  Wholesale     1136.5   \n",
       "...         ...                 ...       ...   ...        ...        ...   \n",
       "108596   Mumbai  cereals and tubers      Rice   100  Wholesale     2400.0   \n",
       "108598   Mumbai  cereals and tubers     Wheat   100  Wholesale     2775.0   \n",
       "108604   Mumbai  miscellaneous food     Sugar   100  Wholesale     3311.1   \n",
       "109081  Chennai  cereals and tubers      Rice   100  Wholesale     4780.0   \n",
       "109083  Chennai  cereals and tubers     Wheat   100  Wholesale     3140.0   \n",
       "\n",
       "        USD_Price  Year Month  Per_unit_price  \n",
       "2430      18.3697  2000    01           8.000  \n",
       "2432      18.3697  2000    01           8.000  \n",
       "2437      24.6843  2000    01          10.750  \n",
       "2439      16.0735  2000    01           7.000  \n",
       "2461      26.0964  2000    01          11.365  \n",
       "...           ...   ...   ...             ...  \n",
       "108596    32.6619  2020    10          24.000  \n",
       "108598    37.7654  2020    10          27.750  \n",
       "108604    45.0612  2020    10          33.111  \n",
       "109081    65.0517  2020    10          47.800  \n",
       "109083    42.7327  2020    10          31.400  \n",
       "\n",
       "[2277 rows x 10 columns]"
      ]
     },
     "execution_count": 39,
     "metadata": {},
     "output_type": "execute_result"
    }
   ],
   "source": [
    "df[df[\"Unit\"]==100]"
   ]
  },
  {
   "cell_type": "code",
   "execution_count": 40,
   "id": "f3c5f182",
   "metadata": {},
   "outputs": [],
   "source": [
    "df.drop([\"INR_Price\",\"USD_Price\"],axis=1,inplace=True)"
   ]
  },
  {
   "cell_type": "code",
   "execution_count": 41,
   "id": "f3218842",
   "metadata": {},
   "outputs": [
    {
     "data": {
      "text/html": [
       "<div>\n",
       "<style scoped>\n",
       "    .dataframe tbody tr th:only-of-type {\n",
       "        vertical-align: middle;\n",
       "    }\n",
       "\n",
       "    .dataframe tbody tr th {\n",
       "        vertical-align: top;\n",
       "    }\n",
       "\n",
       "    .dataframe thead th {\n",
       "        text-align: right;\n",
       "    }\n",
       "</style>\n",
       "<table border=\"1\" class=\"dataframe\">\n",
       "  <thead>\n",
       "    <tr style=\"text-align: right;\">\n",
       "      <th></th>\n",
       "      <th>Market</th>\n",
       "      <th>Category</th>\n",
       "      <th>Commodity</th>\n",
       "      <th>Unit</th>\n",
       "      <th>PriceType</th>\n",
       "      <th>Year</th>\n",
       "      <th>Month</th>\n",
       "      <th>Per_unit_price</th>\n",
       "    </tr>\n",
       "  </thead>\n",
       "  <tbody>\n",
       "    <tr>\n",
       "      <th>0</th>\n",
       "      <td>Delhi</td>\n",
       "      <td>cereals and tubers</td>\n",
       "      <td>Rice</td>\n",
       "      <td>1</td>\n",
       "      <td>Retail</td>\n",
       "      <td>1994</td>\n",
       "      <td>01</td>\n",
       "      <td>8.0</td>\n",
       "    </tr>\n",
       "    <tr>\n",
       "      <th>1</th>\n",
       "      <td>Delhi</td>\n",
       "      <td>cereals and tubers</td>\n",
       "      <td>Wheat</td>\n",
       "      <td>1</td>\n",
       "      <td>Retail</td>\n",
       "      <td>1994</td>\n",
       "      <td>01</td>\n",
       "      <td>5.0</td>\n",
       "    </tr>\n",
       "    <tr>\n",
       "      <th>2</th>\n",
       "      <td>Delhi</td>\n",
       "      <td>miscellaneous food</td>\n",
       "      <td>Sugar</td>\n",
       "      <td>1</td>\n",
       "      <td>Retail</td>\n",
       "      <td>1994</td>\n",
       "      <td>01</td>\n",
       "      <td>13.5</td>\n",
       "    </tr>\n",
       "    <tr>\n",
       "      <th>3</th>\n",
       "      <td>Delhi</td>\n",
       "      <td>oil and fats</td>\n",
       "      <td>Oil (mustard)</td>\n",
       "      <td>1</td>\n",
       "      <td>Retail</td>\n",
       "      <td>1994</td>\n",
       "      <td>01</td>\n",
       "      <td>31.0</td>\n",
       "    </tr>\n",
       "    <tr>\n",
       "      <th>4</th>\n",
       "      <td>Ahmedabad</td>\n",
       "      <td>cereals and tubers</td>\n",
       "      <td>Rice</td>\n",
       "      <td>1</td>\n",
       "      <td>Retail</td>\n",
       "      <td>1994</td>\n",
       "      <td>01</td>\n",
       "      <td>6.8</td>\n",
       "    </tr>\n",
       "  </tbody>\n",
       "</table>\n",
       "</div>"
      ],
      "text/plain": [
       "      Market            Category      Commodity  Unit PriceType  Year Month  \\\n",
       "0      Delhi  cereals and tubers           Rice     1    Retail  1994    01   \n",
       "1      Delhi  cereals and tubers          Wheat     1    Retail  1994    01   \n",
       "2      Delhi  miscellaneous food          Sugar     1    Retail  1994    01   \n",
       "3      Delhi        oil and fats  Oil (mustard)     1    Retail  1994    01   \n",
       "4  Ahmedabad  cereals and tubers           Rice     1    Retail  1994    01   \n",
       "\n",
       "   Per_unit_price  \n",
       "0             8.0  \n",
       "1             5.0  \n",
       "2            13.5  \n",
       "3            31.0  \n",
       "4             6.8  "
      ]
     },
     "execution_count": 41,
     "metadata": {},
     "output_type": "execute_result"
    }
   ],
   "source": [
    "df.head()"
   ]
  },
  {
   "cell_type": "code",
   "execution_count": 42,
   "id": "720214d0",
   "metadata": {},
   "outputs": [
    {
     "data": {
      "text/plain": [
       "array([  1, 100], dtype=int64)"
      ]
     },
     "execution_count": 42,
     "metadata": {},
     "output_type": "execute_result"
    }
   ],
   "source": [
    "df.Unit.unique()"
   ]
  },
  {
   "cell_type": "code",
   "execution_count": 43,
   "id": "284a28b2",
   "metadata": {},
   "outputs": [],
   "source": [
    "df.drop(\"Unit\",axis=1,inplace=True)"
   ]
  },
  {
   "cell_type": "code",
   "execution_count": 44,
   "id": "c87461ff",
   "metadata": {},
   "outputs": [
    {
     "name": "stdout",
     "output_type": "stream",
     "text": [
      "<class 'pandas.core.frame.DataFrame'>\n",
      "RangeIndex: 139534 entries, 0 to 139533\n",
      "Data columns (total 7 columns):\n",
      " #   Column          Non-Null Count   Dtype  \n",
      "---  ------          --------------   -----  \n",
      " 0   Market          139534 non-null  object \n",
      " 1   Category        139534 non-null  object \n",
      " 2   Commodity       139534 non-null  object \n",
      " 3   PriceType       139534 non-null  object \n",
      " 4   Year            139534 non-null  object \n",
      " 5   Month           139534 non-null  object \n",
      " 6   Per_unit_price  139534 non-null  float64\n",
      "dtypes: float64(1), object(6)\n",
      "memory usage: 7.5+ MB\n"
     ]
    }
   ],
   "source": [
    "df.info()"
   ]
  },
  {
   "cell_type": "code",
   "execution_count": 45,
   "id": "a83a304c",
   "metadata": {},
   "outputs": [],
   "source": [
    "Market=df[\"Market\"].nunique()"
   ]
  },
  {
   "cell_type": "code",
   "execution_count": 46,
   "id": "405a40bd",
   "metadata": {},
   "outputs": [
    {
     "data": {
      "text/plain": [
       "165"
      ]
     },
     "execution_count": 46,
     "metadata": {},
     "output_type": "execute_result"
    }
   ],
   "source": [
    "Market"
   ]
  },
  {
   "cell_type": "code",
   "execution_count": 47,
   "id": "053b8346",
   "metadata": {},
   "outputs": [
    {
     "data": {
      "text/html": [
       "<div>\n",
       "<style scoped>\n",
       "    .dataframe tbody tr th:only-of-type {\n",
       "        vertical-align: middle;\n",
       "    }\n",
       "\n",
       "    .dataframe tbody tr th {\n",
       "        vertical-align: top;\n",
       "    }\n",
       "\n",
       "    .dataframe thead th {\n",
       "        text-align: right;\n",
       "    }\n",
       "</style>\n",
       "<table border=\"1\" class=\"dataframe\">\n",
       "  <thead>\n",
       "    <tr style=\"text-align: right;\">\n",
       "      <th></th>\n",
       "      <th>Market</th>\n",
       "      <th>Category</th>\n",
       "      <th>Commodity</th>\n",
       "      <th>PriceType</th>\n",
       "      <th>Year</th>\n",
       "      <th>Month</th>\n",
       "      <th>Per_unit_price</th>\n",
       "    </tr>\n",
       "  </thead>\n",
       "  <tbody>\n",
       "  </tbody>\n",
       "</table>\n",
       "</div>"
      ],
      "text/plain": [
       "Empty DataFrame\n",
       "Columns: [Market, Category, Commodity, PriceType, Year, Month, Per_unit_price]\n",
       "Index: []"
      ]
     },
     "execution_count": 47,
     "metadata": {},
     "output_type": "execute_result"
    }
   ],
   "source": [
    "df[df.duplicated()]"
   ]
  },
  {
   "cell_type": "code",
   "execution_count": 48,
   "id": "595f3231",
   "metadata": {},
   "outputs": [
    {
     "data": {
      "text/html": [
       "<div>\n",
       "<style scoped>\n",
       "    .dataframe tbody tr th:only-of-type {\n",
       "        vertical-align: middle;\n",
       "    }\n",
       "\n",
       "    .dataframe tbody tr th {\n",
       "        vertical-align: top;\n",
       "    }\n",
       "\n",
       "    .dataframe thead th {\n",
       "        text-align: right;\n",
       "    }\n",
       "</style>\n",
       "<table border=\"1\" class=\"dataframe\">\n",
       "  <thead>\n",
       "    <tr style=\"text-align: right;\">\n",
       "      <th></th>\n",
       "      <th>Market</th>\n",
       "      <th>Category</th>\n",
       "      <th>Commodity</th>\n",
       "      <th>PriceType</th>\n",
       "      <th>Year</th>\n",
       "      <th>Month</th>\n",
       "      <th>Per_unit_price</th>\n",
       "    </tr>\n",
       "  </thead>\n",
       "  <tbody>\n",
       "    <tr>\n",
       "      <th>0</th>\n",
       "      <td>Delhi</td>\n",
       "      <td>cereals and tubers</td>\n",
       "      <td>Rice</td>\n",
       "      <td>Retail</td>\n",
       "      <td>1994</td>\n",
       "      <td>01</td>\n",
       "      <td>8.0</td>\n",
       "    </tr>\n",
       "    <tr>\n",
       "      <th>1</th>\n",
       "      <td>Delhi</td>\n",
       "      <td>cereals and tubers</td>\n",
       "      <td>Wheat</td>\n",
       "      <td>Retail</td>\n",
       "      <td>1994</td>\n",
       "      <td>01</td>\n",
       "      <td>5.0</td>\n",
       "    </tr>\n",
       "    <tr>\n",
       "      <th>2</th>\n",
       "      <td>Delhi</td>\n",
       "      <td>miscellaneous food</td>\n",
       "      <td>Sugar</td>\n",
       "      <td>Retail</td>\n",
       "      <td>1994</td>\n",
       "      <td>01</td>\n",
       "      <td>13.5</td>\n",
       "    </tr>\n",
       "    <tr>\n",
       "      <th>3</th>\n",
       "      <td>Delhi</td>\n",
       "      <td>oil and fats</td>\n",
       "      <td>Oil (mustard)</td>\n",
       "      <td>Retail</td>\n",
       "      <td>1994</td>\n",
       "      <td>01</td>\n",
       "      <td>31.0</td>\n",
       "    </tr>\n",
       "    <tr>\n",
       "      <th>4</th>\n",
       "      <td>Ahmedabad</td>\n",
       "      <td>cereals and tubers</td>\n",
       "      <td>Rice</td>\n",
       "      <td>Retail</td>\n",
       "      <td>1994</td>\n",
       "      <td>01</td>\n",
       "      <td>6.8</td>\n",
       "    </tr>\n",
       "  </tbody>\n",
       "</table>\n",
       "</div>"
      ],
      "text/plain": [
       "      Market            Category      Commodity PriceType  Year Month  \\\n",
       "0      Delhi  cereals and tubers           Rice    Retail  1994    01   \n",
       "1      Delhi  cereals and tubers          Wheat    Retail  1994    01   \n",
       "2      Delhi  miscellaneous food          Sugar    Retail  1994    01   \n",
       "3      Delhi        oil and fats  Oil (mustard)    Retail  1994    01   \n",
       "4  Ahmedabad  cereals and tubers           Rice    Retail  1994    01   \n",
       "\n",
       "   Per_unit_price  \n",
       "0             8.0  \n",
       "1             5.0  \n",
       "2            13.5  \n",
       "3            31.0  \n",
       "4             6.8  "
      ]
     },
     "execution_count": 48,
     "metadata": {},
     "output_type": "execute_result"
    }
   ],
   "source": [
    "df.head()"
   ]
  },
  {
   "cell_type": "code",
   "execution_count": 49,
   "id": "6ccfce4e",
   "metadata": {},
   "outputs": [
    {
     "data": {
      "text/plain": [
       "Market             object\n",
       "Category           object\n",
       "Commodity          object\n",
       "PriceType          object\n",
       "Year               object\n",
       "Month              object\n",
       "Per_unit_price    float64\n",
       "dtype: object"
      ]
     },
     "execution_count": 49,
     "metadata": {},
     "output_type": "execute_result"
    }
   ],
   "source": [
    "df.dtypes"
   ]
  },
  {
   "cell_type": "code",
   "execution_count": 50,
   "id": "f481dff7",
   "metadata": {},
   "outputs": [],
   "source": [
    "df[\"Month\"]=df[\"Month\"].apply(lambda x:int(x))"
   ]
  },
  {
   "cell_type": "code",
   "execution_count": 51,
   "id": "fc84c72b",
   "metadata": {},
   "outputs": [],
   "source": [
    "df[\"Year\"]=df[\"Year\"].apply(lambda x:int(x))"
   ]
  },
  {
   "cell_type": "code",
   "execution_count": null,
   "id": "920517b0",
   "metadata": {},
   "outputs": [],
   "source": []
  },
  {
   "cell_type": "code",
   "execution_count": 52,
   "id": "f140513c",
   "metadata": {},
   "outputs": [
    {
     "data": {
      "text/plain": [
       "Market             object\n",
       "Category           object\n",
       "Commodity          object\n",
       "PriceType          object\n",
       "Year                int64\n",
       "Month               int64\n",
       "Per_unit_price    float64\n",
       "dtype: object"
      ]
     },
     "execution_count": 52,
     "metadata": {},
     "output_type": "execute_result"
    }
   ],
   "source": [
    "df.dtypes"
   ]
  },
  {
   "cell_type": "code",
   "execution_count": 53,
   "id": "d6de5899",
   "metadata": {},
   "outputs": [
    {
     "data": {
      "text/html": [
       "<div>\n",
       "<style scoped>\n",
       "    .dataframe tbody tr th:only-of-type {\n",
       "        vertical-align: middle;\n",
       "    }\n",
       "\n",
       "    .dataframe tbody tr th {\n",
       "        vertical-align: top;\n",
       "    }\n",
       "\n",
       "    .dataframe thead th {\n",
       "        text-align: right;\n",
       "    }\n",
       "</style>\n",
       "<table border=\"1\" class=\"dataframe\">\n",
       "  <thead>\n",
       "    <tr style=\"text-align: right;\">\n",
       "      <th></th>\n",
       "      <th>Market</th>\n",
       "      <th>Category</th>\n",
       "      <th>Commodity</th>\n",
       "      <th>PriceType</th>\n",
       "      <th>Year</th>\n",
       "      <th>Month</th>\n",
       "      <th>Per_unit_price</th>\n",
       "    </tr>\n",
       "  </thead>\n",
       "  <tbody>\n",
       "    <tr>\n",
       "      <th>0</th>\n",
       "      <td>Delhi</td>\n",
       "      <td>cereals and tubers</td>\n",
       "      <td>Rice</td>\n",
       "      <td>Retail</td>\n",
       "      <td>1994</td>\n",
       "      <td>1</td>\n",
       "      <td>8.0</td>\n",
       "    </tr>\n",
       "    <tr>\n",
       "      <th>1</th>\n",
       "      <td>Delhi</td>\n",
       "      <td>cereals and tubers</td>\n",
       "      <td>Wheat</td>\n",
       "      <td>Retail</td>\n",
       "      <td>1994</td>\n",
       "      <td>1</td>\n",
       "      <td>5.0</td>\n",
       "    </tr>\n",
       "    <tr>\n",
       "      <th>2</th>\n",
       "      <td>Delhi</td>\n",
       "      <td>miscellaneous food</td>\n",
       "      <td>Sugar</td>\n",
       "      <td>Retail</td>\n",
       "      <td>1994</td>\n",
       "      <td>1</td>\n",
       "      <td>13.5</td>\n",
       "    </tr>\n",
       "    <tr>\n",
       "      <th>3</th>\n",
       "      <td>Delhi</td>\n",
       "      <td>oil and fats</td>\n",
       "      <td>Oil (mustard)</td>\n",
       "      <td>Retail</td>\n",
       "      <td>1994</td>\n",
       "      <td>1</td>\n",
       "      <td>31.0</td>\n",
       "    </tr>\n",
       "    <tr>\n",
       "      <th>4</th>\n",
       "      <td>Ahmedabad</td>\n",
       "      <td>cereals and tubers</td>\n",
       "      <td>Rice</td>\n",
       "      <td>Retail</td>\n",
       "      <td>1994</td>\n",
       "      <td>1</td>\n",
       "      <td>6.8</td>\n",
       "    </tr>\n",
       "  </tbody>\n",
       "</table>\n",
       "</div>"
      ],
      "text/plain": [
       "      Market            Category      Commodity PriceType  Year  Month  \\\n",
       "0      Delhi  cereals and tubers           Rice    Retail  1994      1   \n",
       "1      Delhi  cereals and tubers          Wheat    Retail  1994      1   \n",
       "2      Delhi  miscellaneous food          Sugar    Retail  1994      1   \n",
       "3      Delhi        oil and fats  Oil (mustard)    Retail  1994      1   \n",
       "4  Ahmedabad  cereals and tubers           Rice    Retail  1994      1   \n",
       "\n",
       "   Per_unit_price  \n",
       "0             8.0  \n",
       "1             5.0  \n",
       "2            13.5  \n",
       "3            31.0  \n",
       "4             6.8  "
      ]
     },
     "execution_count": 53,
     "metadata": {},
     "output_type": "execute_result"
    }
   ],
   "source": [
    "df.head()"
   ]
  },
  {
   "cell_type": "code",
   "execution_count": 54,
   "id": "93a251da",
   "metadata": {},
   "outputs": [
    {
     "data": {
      "text/plain": [
       "array(['Retail', 'Wholesale'], dtype=object)"
      ]
     },
     "execution_count": 54,
     "metadata": {},
     "output_type": "execute_result"
    }
   ],
   "source": [
    "df.PriceType.unique()"
   ]
  },
  {
   "cell_type": "code",
   "execution_count": 55,
   "id": "dc88a209",
   "metadata": {},
   "outputs": [],
   "source": [
    "from sklearn.preprocessing import LabelEncoder\n",
    "le=LabelEncoder()"
   ]
  },
  {
   "cell_type": "code",
   "execution_count": 56,
   "id": "6ab9b13f",
   "metadata": {},
   "outputs": [],
   "source": [
    "df.PriceType=le.fit_transform(df[\"PriceType\"])"
   ]
  },
  {
   "cell_type": "code",
   "execution_count": 57,
   "id": "6e9ac873",
   "metadata": {},
   "outputs": [
    {
     "data": {
      "text/plain": [
       "array([0, 1])"
      ]
     },
     "execution_count": 57,
     "metadata": {},
     "output_type": "execute_result"
    }
   ],
   "source": [
    "df.PriceType.unique()"
   ]
  },
  {
   "cell_type": "code",
   "execution_count": 58,
   "id": "c847edf4",
   "metadata": {},
   "outputs": [],
   "source": [
    "Commodity=df.Commodity.unique()"
   ]
  },
  {
   "cell_type": "code",
   "execution_count": 59,
   "id": "9c0f1784",
   "metadata": {},
   "outputs": [
    {
     "data": {
      "text/plain": [
       "array(['Chickpeas', 'Ghee (vanaspati)', 'Lentils', 'Lentils (masur)',\n",
       "       'Lentils (moong)', 'Lentils (urad)', 'Milk', 'Milk (pasteurized)',\n",
       "       'Oil (groundnut)', 'Oil (mustard)', 'Oil (palm)', 'Oil (soybean)',\n",
       "       'Oil (sunflower)', 'Onions', 'Potatoes', 'Rice', 'Salt (iodised)',\n",
       "       'Sugar', 'Sugar (jaggery/gur)', 'Tea (black)', 'Tomatoes', 'Wheat',\n",
       "       'Wheat flour'], dtype=object)"
      ]
     },
     "execution_count": 59,
     "metadata": {},
     "output_type": "execute_result"
    }
   ],
   "source": [
    "Commodity.sort()\n",
    "Commodity"
   ]
  },
  {
   "cell_type": "code",
   "execution_count": 60,
   "id": "fcccb1fb",
   "metadata": {},
   "outputs": [],
   "source": [
    "df[\"Commodity\"]=le.fit_transform(df[\"Commodity\"])"
   ]
  },
  {
   "cell_type": "code",
   "execution_count": 61,
   "id": "f4fdd27c",
   "metadata": {},
   "outputs": [],
   "source": [
    "Commodityint=df[\"Commodity\"].unique()"
   ]
  },
  {
   "cell_type": "code",
   "execution_count": 62,
   "id": "ec8d800e",
   "metadata": {},
   "outputs": [
    {
     "data": {
      "text/plain": [
       "array([ 0,  1,  2,  3,  4,  5,  6,  7,  8,  9, 10, 11, 12, 13, 14, 15, 16,\n",
       "       17, 18, 19, 20, 21, 22])"
      ]
     },
     "execution_count": 62,
     "metadata": {},
     "output_type": "execute_result"
    }
   ],
   "source": [
    "Commodityint.sort()\n",
    "Commodityint"
   ]
  },
  {
   "cell_type": "code",
   "execution_count": 63,
   "id": "b8890a23",
   "metadata": {},
   "outputs": [
    {
     "data": {
      "text/html": [
       "<div>\n",
       "<style scoped>\n",
       "    .dataframe tbody tr th:only-of-type {\n",
       "        vertical-align: middle;\n",
       "    }\n",
       "\n",
       "    .dataframe tbody tr th {\n",
       "        vertical-align: top;\n",
       "    }\n",
       "\n",
       "    .dataframe thead th {\n",
       "        text-align: right;\n",
       "    }\n",
       "</style>\n",
       "<table border=\"1\" class=\"dataframe\">\n",
       "  <thead>\n",
       "    <tr style=\"text-align: right;\">\n",
       "      <th></th>\n",
       "      <th>Market</th>\n",
       "      <th>Category</th>\n",
       "      <th>Commodity</th>\n",
       "      <th>PriceType</th>\n",
       "      <th>Year</th>\n",
       "      <th>Month</th>\n",
       "      <th>Per_unit_price</th>\n",
       "    </tr>\n",
       "  </thead>\n",
       "  <tbody>\n",
       "    <tr>\n",
       "      <th>0</th>\n",
       "      <td>Delhi</td>\n",
       "      <td>cereals and tubers</td>\n",
       "      <td>15</td>\n",
       "      <td>0</td>\n",
       "      <td>1994</td>\n",
       "      <td>1</td>\n",
       "      <td>8.0</td>\n",
       "    </tr>\n",
       "    <tr>\n",
       "      <th>1</th>\n",
       "      <td>Delhi</td>\n",
       "      <td>cereals and tubers</td>\n",
       "      <td>21</td>\n",
       "      <td>0</td>\n",
       "      <td>1994</td>\n",
       "      <td>1</td>\n",
       "      <td>5.0</td>\n",
       "    </tr>\n",
       "    <tr>\n",
       "      <th>2</th>\n",
       "      <td>Delhi</td>\n",
       "      <td>miscellaneous food</td>\n",
       "      <td>17</td>\n",
       "      <td>0</td>\n",
       "      <td>1994</td>\n",
       "      <td>1</td>\n",
       "      <td>13.5</td>\n",
       "    </tr>\n",
       "    <tr>\n",
       "      <th>3</th>\n",
       "      <td>Delhi</td>\n",
       "      <td>oil and fats</td>\n",
       "      <td>9</td>\n",
       "      <td>0</td>\n",
       "      <td>1994</td>\n",
       "      <td>1</td>\n",
       "      <td>31.0</td>\n",
       "    </tr>\n",
       "    <tr>\n",
       "      <th>4</th>\n",
       "      <td>Ahmedabad</td>\n",
       "      <td>cereals and tubers</td>\n",
       "      <td>15</td>\n",
       "      <td>0</td>\n",
       "      <td>1994</td>\n",
       "      <td>1</td>\n",
       "      <td>6.8</td>\n",
       "    </tr>\n",
       "  </tbody>\n",
       "</table>\n",
       "</div>"
      ],
      "text/plain": [
       "      Market            Category  Commodity  PriceType  Year  Month  \\\n",
       "0      Delhi  cereals and tubers         15          0  1994      1   \n",
       "1      Delhi  cereals and tubers         21          0  1994      1   \n",
       "2      Delhi  miscellaneous food         17          0  1994      1   \n",
       "3      Delhi        oil and fats          9          0  1994      1   \n",
       "4  Ahmedabad  cereals and tubers         15          0  1994      1   \n",
       "\n",
       "   Per_unit_price  \n",
       "0             8.0  \n",
       "1             5.0  \n",
       "2            13.5  \n",
       "3            31.0  \n",
       "4             6.8  "
      ]
     },
     "execution_count": 63,
     "metadata": {},
     "output_type": "execute_result"
    }
   ],
   "source": [
    "df.head()"
   ]
  },
  {
   "cell_type": "code",
   "execution_count": 64,
   "id": "f1cdadaf",
   "metadata": {},
   "outputs": [],
   "source": [
    "Category=df.Category.unique()"
   ]
  },
  {
   "cell_type": "code",
   "execution_count": 65,
   "id": "01e439ea",
   "metadata": {},
   "outputs": [
    {
     "data": {
      "text/plain": [
       "array(['cereals and tubers', 'milk and dairy', 'miscellaneous food',\n",
       "       'oil and fats', 'pulses and nuts', 'vegetables and fruits'],\n",
       "      dtype=object)"
      ]
     },
     "execution_count": 65,
     "metadata": {},
     "output_type": "execute_result"
    }
   ],
   "source": [
    "Category.sort()\n",
    "Category"
   ]
  },
  {
   "cell_type": "code",
   "execution_count": 66,
   "id": "ed3dce09",
   "metadata": {},
   "outputs": [],
   "source": [
    "df[\"Category\"]=le.fit_transform(df[\"Category\"])\n",
    "Categoryint=df[\"Category\"].unique()"
   ]
  },
  {
   "cell_type": "code",
   "execution_count": 67,
   "id": "78700ba4",
   "metadata": {},
   "outputs": [
    {
     "data": {
      "text/plain": [
       "array([0, 1, 2, 3, 4, 5])"
      ]
     },
     "execution_count": 67,
     "metadata": {},
     "output_type": "execute_result"
    }
   ],
   "source": [
    "Categoryint.sort()\n",
    "Categoryint"
   ]
  },
  {
   "cell_type": "code",
   "execution_count": 68,
   "id": "6ff9cd26",
   "metadata": {},
   "outputs": [
    {
     "data": {
      "text/html": [
       "<div>\n",
       "<style scoped>\n",
       "    .dataframe tbody tr th:only-of-type {\n",
       "        vertical-align: middle;\n",
       "    }\n",
       "\n",
       "    .dataframe tbody tr th {\n",
       "        vertical-align: top;\n",
       "    }\n",
       "\n",
       "    .dataframe thead th {\n",
       "        text-align: right;\n",
       "    }\n",
       "</style>\n",
       "<table border=\"1\" class=\"dataframe\">\n",
       "  <thead>\n",
       "    <tr style=\"text-align: right;\">\n",
       "      <th></th>\n",
       "      <th>Market</th>\n",
       "      <th>Category</th>\n",
       "      <th>Commodity</th>\n",
       "      <th>PriceType</th>\n",
       "      <th>Year</th>\n",
       "      <th>Month</th>\n",
       "      <th>Per_unit_price</th>\n",
       "    </tr>\n",
       "  </thead>\n",
       "  <tbody>\n",
       "    <tr>\n",
       "      <th>0</th>\n",
       "      <td>Delhi</td>\n",
       "      <td>0</td>\n",
       "      <td>15</td>\n",
       "      <td>0</td>\n",
       "      <td>1994</td>\n",
       "      <td>1</td>\n",
       "      <td>8.0</td>\n",
       "    </tr>\n",
       "    <tr>\n",
       "      <th>1</th>\n",
       "      <td>Delhi</td>\n",
       "      <td>0</td>\n",
       "      <td>21</td>\n",
       "      <td>0</td>\n",
       "      <td>1994</td>\n",
       "      <td>1</td>\n",
       "      <td>5.0</td>\n",
       "    </tr>\n",
       "    <tr>\n",
       "      <th>2</th>\n",
       "      <td>Delhi</td>\n",
       "      <td>2</td>\n",
       "      <td>17</td>\n",
       "      <td>0</td>\n",
       "      <td>1994</td>\n",
       "      <td>1</td>\n",
       "      <td>13.5</td>\n",
       "    </tr>\n",
       "    <tr>\n",
       "      <th>3</th>\n",
       "      <td>Delhi</td>\n",
       "      <td>3</td>\n",
       "      <td>9</td>\n",
       "      <td>0</td>\n",
       "      <td>1994</td>\n",
       "      <td>1</td>\n",
       "      <td>31.0</td>\n",
       "    </tr>\n",
       "    <tr>\n",
       "      <th>4</th>\n",
       "      <td>Ahmedabad</td>\n",
       "      <td>0</td>\n",
       "      <td>15</td>\n",
       "      <td>0</td>\n",
       "      <td>1994</td>\n",
       "      <td>1</td>\n",
       "      <td>6.8</td>\n",
       "    </tr>\n",
       "  </tbody>\n",
       "</table>\n",
       "</div>"
      ],
      "text/plain": [
       "      Market  Category  Commodity  PriceType  Year  Month  Per_unit_price\n",
       "0      Delhi         0         15          0  1994      1             8.0\n",
       "1      Delhi         0         21          0  1994      1             5.0\n",
       "2      Delhi         2         17          0  1994      1            13.5\n",
       "3      Delhi         3          9          0  1994      1            31.0\n",
       "4  Ahmedabad         0         15          0  1994      1             6.8"
      ]
     },
     "execution_count": 68,
     "metadata": {},
     "output_type": "execute_result"
    }
   ],
   "source": [
    "df.head()"
   ]
  },
  {
   "cell_type": "code",
   "execution_count": 69,
   "id": "96b71a25",
   "metadata": {},
   "outputs": [
    {
     "data": {
      "text/plain": [
       "array(['Delhi', 'Ahmedabad', 'Shimla', 'Bengaluru', 'Bhopal', 'Mumbai',\n",
       "       'Bhubaneshwar', 'Hyderabad', 'Agartala', 'Kolkata', 'Shillong',\n",
       "       'Jaipur', 'Chennai', 'Guwahati', 'Tiruvanantapuram', 'Lucknow',\n",
       "       'Aizawl', 'Patna', 'Chandigarh', 'Ranchi', 'Raipur', 'Kohima',\n",
       "       'Amritsar', 'Ludhiana', 'Dehradun', 'Vijaywada', 'Rajkot',\n",
       "       'Dindigul', 'Kanpur', 'Bhagalpur', 'Hisar', 'Karnal', 'Mandi',\n",
       "       'Dharwad', 'Nagpur', 'Cuttack', 'Sambalpur', 'Thiruchirapalli',\n",
       "       'Agra', 'Varanasi', 'Siliguri', 'Indore', 'Dimapur', 'Bathinda',\n",
       "       'Jodhpur', 'Ernakulam', 'Kota', 'Port Blair', 'Puducherry',\n",
       "       'Panaji', 'Gurgaon', 'Panchkula', 'Kozhikode', 'T.Puram',\n",
       "       'Gwalior', 'Jabalpur', 'Rourkela', 'National Average',\n",
       "       'Mayabunder', 'Tirupathi', 'Kurnool', 'Visakhapatnam', 'Darbhanga',\n",
       "       'Bihar_Gaya', 'Muzzafarpur', 'Purnia', 'Jagdalpur', 'Bilaspur',\n",
       "       'Durg', 'Ambikapur', 'Bhuj', 'Surat', 'Dharamshala', 'Solan',\n",
       "       'Mangalore', 'Mysore', 'Palakkad', 'Thrissur', 'Wayanad', 'Rewa',\n",
       "       'Sagar', 'Nashik', 'Maharashtra_Pune', 'Imphal', 'Jowai', 'Tura',\n",
       "       'Balasore', 'Berhampur', 'Jeypore', 'Udaipur', 'Gangtok',\n",
       "       'Coimbatore', 'Cuddalore', 'Dharmapuri', 'Ramanathapuram',\n",
       "       'Tirunelveli', 'Vellore', 'Adilabad', 'Karimnagar', 'Jadcherla',\n",
       "       'Suryapet', 'Warangal', 'Gorakhpur', 'Jhansi', 'Allahabad',\n",
       "       'Meerut', 'Haridwar', 'Haldwani', 'Rudrapur', 'Rampurhat', 'Malda',\n",
       "       'Purulia', 'Raiganj', 'Kharagpur', 'Una', 'Hoshangabad', 'Jhabua',\n",
       "       'Shahdol', 'Ujjain', 'Balangir', 'Baripada', 'Bokaro', 'Gumla',\n",
       "       'Lohardaga', 'Sahibganj', 'Simdega', 'Bengaluru (east range)',\n",
       "       'Belagavi', 'Vijayapur', 'Dhavanagere', 'Kalaburagi', 'Shivamogga',\n",
       "       'Bellary', 'Tumakuru', 'Araria', 'Katihar', 'Khagaria',\n",
       "       'Madhubani', 'Munger', 'Nawada', 'Motihari', 'Rohtas (sasaram)',\n",
       "       'Saharsa', 'Samastipur', 'Saran', 'Bilaspur-hp', 'Bharatpur',\n",
       "       'Bikaner', 'Morena', 'Ajmer', 'Aligarh', 'Bareilly', 'Moradabad',\n",
       "       'Ayodhya', 'Mirzapur (vindhyanchal)', 'Saharanpur', 'Waghai',\n",
       "       'Vapi', 'Chamba', 'Mangaon-raigad', 'Dantewada', 'Selamba',\n",
       "       'Bodeli', 'Dhanbad', 'Jamshedpur'], dtype=object)"
      ]
     },
     "execution_count": 69,
     "metadata": {},
     "output_type": "execute_result"
    }
   ],
   "source": [
    "Market=df.Market.unique()\n",
    "Market"
   ]
  },
  {
   "cell_type": "code",
   "execution_count": 70,
   "id": "1e7da54c",
   "metadata": {},
   "outputs": [],
   "source": [
    "df[\"Market\"]=le.fit_transform(df['Market'])\n",
    "market=df[\"Market\"].unique()"
   ]
  },
  {
   "cell_type": "code",
   "execution_count": 71,
   "id": "4ba2c44f",
   "metadata": {},
   "outputs": [
    {
     "data": {
      "text/plain": [
       "array([ 42,   3, 138,  19,  24, 102,  25,  62,   1,  83, 137,  68,  35,\n",
       "        56, 150,  88,   4, 113,  34, 123, 119,  82,   9,  89,  41, 160,\n",
       "       120,  49,  76,  22,  60,  78,  93,  46, 106,  38, 133, 146,   2,\n",
       "       157, 140,  64,  48,  16,  73,  51,  84, 114, 115, 111,  55, 112,\n",
       "        85, 145,  57,  65, 126, 108,  96, 149,  86, 161,  40,  27, 104,\n",
       "       116,  67,  29,  50,   8,  26, 143,  44, 142,  94, 105, 110, 147,\n",
       "       164, 124, 128, 107,  91,  63,  74, 152,  13,  21,  70, 153,  52,\n",
       "        36,  37,  45, 121, 148, 158,   0,  77,  66, 144, 163,  53,  72,\n",
       "         7,  97,  59,  58, 127, 122,  92, 117, 118,  81, 155,  61,  71,\n",
       "       136, 154,  12,  15,  32,  54,  87, 131, 141,  20,  17, 159,  47,\n",
       "        75, 139,  18, 151,  10,  79,  80,  90, 103, 109, 101, 125, 130,\n",
       "       132, 134,  30,  23,  28, 100,   5,   6,  14,  99,  11,  98, 129,\n",
       "       162, 156,  33,  95,  39, 135,  31,  43,  69])"
      ]
     },
     "execution_count": 71,
     "metadata": {},
     "output_type": "execute_result"
    }
   ],
   "source": [
    "market"
   ]
  },
  {
   "cell_type": "code",
   "execution_count": 72,
   "id": "7a323dd6",
   "metadata": {},
   "outputs": [
    {
     "data": {
      "text/plain": [
       "Market              int32\n",
       "Category            int32\n",
       "Commodity           int32\n",
       "PriceType           int32\n",
       "Year                int64\n",
       "Month               int64\n",
       "Per_unit_price    float64\n",
       "dtype: object"
      ]
     },
     "execution_count": 72,
     "metadata": {},
     "output_type": "execute_result"
    }
   ],
   "source": [
    "df.dtypes"
   ]
  },
  {
   "cell_type": "code",
   "execution_count": 73,
   "id": "c7f67ee5",
   "metadata": {},
   "outputs": [
    {
     "data": {
      "text/plain": [
       "<AxesSubplot:>"
      ]
     },
     "execution_count": 73,
     "metadata": {},
     "output_type": "execute_result"
    },
    {
     "data": {
      "image/png": "[encoded data removed]",
      "text/plain": [
       "<Figure size 720x720 with 2 Axes>"
      ]
     },
     "metadata": {
      "needs_background": "light"
     },
     "output_type": "display_data"
    }
   ],
   "source": [
    "fig,ax=plt.subplots(figsize=(10,10))\n",
    "sns.heatmap(df.corr(),annot=True,fmt=\".2g\",cmap=\"viridis\",cbar=True)"
   ]
  },
  {
   "cell_type": "code",
   "execution_count": 74,
   "id": "931e5492",
   "metadata": {},
   "outputs": [
    {
     "data": {
      "text/plain": [
       "<AxesSubplot:>"
      ]
     },
     "execution_count": 74,
     "metadata": {},
     "output_type": "execute_result"
    },
    {
     "data": {
      "image/png": "[encoded data removed]",
      "text/plain": [
       "<Figure size 432x288 with 1 Axes>"
      ]
     },
     "metadata": {
      "needs_background": "light"
     },
     "output_type": "display_data"
    }
   ],
   "source": [
    "df[\"Per_unit_price\"].plot(kind=\"box\")"
   ]
  },
  {
   "cell_type": "code",
   "execution_count": 75,
   "id": "2c0f5385",
   "metadata": {},
   "outputs": [
    {
     "data": {
      "text/plain": [
       "<AxesSubplot:>"
      ]
     },
     "execution_count": 75,
     "metadata": {},
     "output_type": "execute_result"
    },
    {
     "data": {
      "image/png": "[encoded data removed]",
      "text/plain": [
       "<Figure size 432x288 with 1 Axes>"
      ]
     },
     "metadata": {
      "needs_background": "light"
     },
     "output_type": "display_data"
    }
   ],
   "source": [
    "df[\"Year\"].plot(kind=\"box\")"
   ]
  },
  {
   "cell_type": "code",
   "execution_count": 76,
   "id": "0848a930",
   "metadata": {},
   "outputs": [
    {
     "data": {
      "text/plain": [
       "<AxesSubplot:xlabel='Per_unit_price', ylabel='Count'>"
      ]
     },
     "execution_count": 76,
     "metadata": {},
     "output_type": "execute_result"
    },
    {
     "data": {
      "image/png": "[encoded data removed]",
      "text/plain": [
       "<Figure size 432x576 with 1 Axes>"
      ]
     },
     "metadata": {},
     "output_type": "display_data"
    }
   ],
   "source": [
    "plt.style.use(\"seaborn\")\n",
    "fig,ax=plt.subplots(figsize=(6,8))\n",
    "sns.histplot(x=df[\"Per_unit_price\"],kde=True)"
   ]
  },
  {
   "cell_type": "code",
   "execution_count": 77,
   "id": "e8c99589",
   "metadata": {},
   "outputs": [
    {
     "data": {
      "text/html": [
       "<div>\n",
       "<style scoped>\n",
       "    .dataframe tbody tr th:only-of-type {\n",
       "        vertical-align: middle;\n",
       "    }\n",
       "\n",
       "    .dataframe tbody tr th {\n",
       "        vertical-align: top;\n",
       "    }\n",
       "\n",
       "    .dataframe thead th {\n",
       "        text-align: right;\n",
       "    }\n",
       "</style>\n",
       "<table border=\"1\" class=\"dataframe\">\n",
       "  <thead>\n",
       "    <tr style=\"text-align: right;\">\n",
       "      <th></th>\n",
       "      <th>Market</th>\n",
       "      <th>Category</th>\n",
       "      <th>Commodity</th>\n",
       "      <th>PriceType</th>\n",
       "      <th>Year</th>\n",
       "      <th>Month</th>\n",
       "      <th>Per_unit_price</th>\n",
       "    </tr>\n",
       "  </thead>\n",
       "  <tbody>\n",
       "    <tr>\n",
       "      <th>129492</th>\n",
       "      <td>37</td>\n",
       "      <td>2</td>\n",
       "      <td>19</td>\n",
       "      <td>0</td>\n",
       "      <td>2021</td>\n",
       "      <td>6</td>\n",
       "      <td>567.5</td>\n",
       "    </tr>\n",
       "  </tbody>\n",
       "</table>\n",
       "</div>"
      ],
      "text/plain": [
       "        Market  Category  Commodity  PriceType  Year  Month  Per_unit_price\n",
       "129492      37         2         19          0  2021      6           567.5"
      ]
     },
     "execution_count": 77,
     "metadata": {},
     "output_type": "execute_result"
    }
   ],
   "source": [
    "df[df[\"Per_unit_price\"]==df[\"Per_unit_price\"].max()]"
   ]
  },
  {
   "cell_type": "code",
   "execution_count": 78,
   "id": "b8afa0ac",
   "metadata": {},
   "outputs": [
    {
     "data": {
      "text/html": [
       "<div>\n",
       "<style scoped>\n",
       "    .dataframe tbody tr th:only-of-type {\n",
       "        vertical-align: middle;\n",
       "    }\n",
       "\n",
       "    .dataframe tbody tr th {\n",
       "        vertical-align: top;\n",
       "    }\n",
       "\n",
       "    .dataframe thead th {\n",
       "        text-align: right;\n",
       "    }\n",
       "</style>\n",
       "<table border=\"1\" class=\"dataframe\">\n",
       "  <thead>\n",
       "    <tr style=\"text-align: right;\">\n",
       "      <th></th>\n",
       "      <th>Market</th>\n",
       "      <th>Category</th>\n",
       "      <th>Commodity</th>\n",
       "      <th>PriceType</th>\n",
       "      <th>Year</th>\n",
       "      <th>Month</th>\n",
       "      <th>Per_unit_price</th>\n",
       "    </tr>\n",
       "  </thead>\n",
       "  <tbody>\n",
       "    <tr>\n",
       "      <th>25126</th>\n",
       "      <td>114</td>\n",
       "      <td>2</td>\n",
       "      <td>19</td>\n",
       "      <td>0</td>\n",
       "      <td>2013</td>\n",
       "      <td>7</td>\n",
       "      <td>369.00</td>\n",
       "    </tr>\n",
       "    <tr>\n",
       "      <th>26194</th>\n",
       "      <td>4</td>\n",
       "      <td>2</td>\n",
       "      <td>19</td>\n",
       "      <td>0</td>\n",
       "      <td>2013</td>\n",
       "      <td>8</td>\n",
       "      <td>320.00</td>\n",
       "    </tr>\n",
       "    <tr>\n",
       "      <th>26878</th>\n",
       "      <td>4</td>\n",
       "      <td>2</td>\n",
       "      <td>19</td>\n",
       "      <td>0</td>\n",
       "      <td>2013</td>\n",
       "      <td>9</td>\n",
       "      <td>320.00</td>\n",
       "    </tr>\n",
       "    <tr>\n",
       "      <th>27576</th>\n",
       "      <td>4</td>\n",
       "      <td>2</td>\n",
       "      <td>19</td>\n",
       "      <td>0</td>\n",
       "      <td>2013</td>\n",
       "      <td>10</td>\n",
       "      <td>320.00</td>\n",
       "    </tr>\n",
       "    <tr>\n",
       "      <th>28297</th>\n",
       "      <td>4</td>\n",
       "      <td>2</td>\n",
       "      <td>19</td>\n",
       "      <td>0</td>\n",
       "      <td>2013</td>\n",
       "      <td>11</td>\n",
       "      <td>320.00</td>\n",
       "    </tr>\n",
       "    <tr>\n",
       "      <th>...</th>\n",
       "      <td>...</td>\n",
       "      <td>...</td>\n",
       "      <td>...</td>\n",
       "      <td>...</td>\n",
       "      <td>...</td>\n",
       "      <td>...</td>\n",
       "      <td>...</td>\n",
       "    </tr>\n",
       "    <tr>\n",
       "      <th>139067</th>\n",
       "      <td>14</td>\n",
       "      <td>2</td>\n",
       "      <td>19</td>\n",
       "      <td>0</td>\n",
       "      <td>2021</td>\n",
       "      <td>9</td>\n",
       "      <td>403.38</td>\n",
       "    </tr>\n",
       "    <tr>\n",
       "      <th>139193</th>\n",
       "      <td>88</td>\n",
       "      <td>2</td>\n",
       "      <td>19</td>\n",
       "      <td>0</td>\n",
       "      <td>2021</td>\n",
       "      <td>9</td>\n",
       "      <td>439.65</td>\n",
       "    </tr>\n",
       "    <tr>\n",
       "      <th>139214</th>\n",
       "      <td>97</td>\n",
       "      <td>2</td>\n",
       "      <td>19</td>\n",
       "      <td>0</td>\n",
       "      <td>2021</td>\n",
       "      <td>9</td>\n",
       "      <td>433.15</td>\n",
       "    </tr>\n",
       "    <tr>\n",
       "      <th>139256</th>\n",
       "      <td>99</td>\n",
       "      <td>2</td>\n",
       "      <td>19</td>\n",
       "      <td>0</td>\n",
       "      <td>2021</td>\n",
       "      <td>9</td>\n",
       "      <td>301.31</td>\n",
       "    </tr>\n",
       "    <tr>\n",
       "      <th>139277</th>\n",
       "      <td>129</td>\n",
       "      <td>2</td>\n",
       "      <td>19</td>\n",
       "      <td>0</td>\n",
       "      <td>2021</td>\n",
       "      <td>9</td>\n",
       "      <td>423.08</td>\n",
       "    </tr>\n",
       "  </tbody>\n",
       "</table>\n",
       "<p>425 rows × 7 columns</p>\n",
       "</div>"
      ],
      "text/plain": [
       "        Market  Category  Commodity  PriceType  Year  Month  Per_unit_price\n",
       "25126      114         2         19          0  2013      7          369.00\n",
       "26194        4         2         19          0  2013      8          320.00\n",
       "26878        4         2         19          0  2013      9          320.00\n",
       "27576        4         2         19          0  2013     10          320.00\n",
       "28297        4         2         19          0  2013     11          320.00\n",
       "...        ...       ...        ...        ...   ...    ...             ...\n",
       "139067      14         2         19          0  2021      9          403.38\n",
       "139193      88         2         19          0  2021      9          439.65\n",
       "139214      97         2         19          0  2021      9          433.15\n",
       "139256      99         2         19          0  2021      9          301.31\n",
       "139277     129         2         19          0  2021      9          423.08\n",
       "\n",
       "[425 rows x 7 columns]"
      ]
     },
     "execution_count": 78,
     "metadata": {},
     "output_type": "execute_result"
    }
   ],
   "source": [
    "df[df[\"Per_unit_price\"]>300]"
   ]
  },
  {
   "cell_type": "markdown",
   "id": "cef663d9",
   "metadata": {},
   "source": [
    "19-Tea(Black) price per kg price high thats why we found outliers most"
   ]
  },
  {
   "cell_type": "code",
   "execution_count": 79,
   "id": "eeb8e5a9",
   "metadata": {},
   "outputs": [
    {
     "data": {
      "text/html": [
       "<div>\n",
       "<style scoped>\n",
       "    .dataframe tbody tr th:only-of-type {\n",
       "        vertical-align: middle;\n",
       "    }\n",
       "\n",
       "    .dataframe tbody tr th {\n",
       "        vertical-align: top;\n",
       "    }\n",
       "\n",
       "    .dataframe thead th {\n",
       "        text-align: right;\n",
       "    }\n",
       "</style>\n",
       "<table border=\"1\" class=\"dataframe\">\n",
       "  <thead>\n",
       "    <tr style=\"text-align: right;\">\n",
       "      <th></th>\n",
       "      <th>Market</th>\n",
       "      <th>Category</th>\n",
       "      <th>Commodity</th>\n",
       "      <th>PriceType</th>\n",
       "      <th>Year</th>\n",
       "      <th>Month</th>\n",
       "      <th>Per_unit_price</th>\n",
       "    </tr>\n",
       "  </thead>\n",
       "  <tbody>\n",
       "    <tr>\n",
       "      <th>0</th>\n",
       "      <td>42</td>\n",
       "      <td>0</td>\n",
       "      <td>15</td>\n",
       "      <td>0</td>\n",
       "      <td>1994</td>\n",
       "      <td>1</td>\n",
       "      <td>8.0</td>\n",
       "    </tr>\n",
       "    <tr>\n",
       "      <th>1</th>\n",
       "      <td>42</td>\n",
       "      <td>0</td>\n",
       "      <td>21</td>\n",
       "      <td>0</td>\n",
       "      <td>1994</td>\n",
       "      <td>1</td>\n",
       "      <td>5.0</td>\n",
       "    </tr>\n",
       "    <tr>\n",
       "      <th>2</th>\n",
       "      <td>42</td>\n",
       "      <td>2</td>\n",
       "      <td>17</td>\n",
       "      <td>0</td>\n",
       "      <td>1994</td>\n",
       "      <td>1</td>\n",
       "      <td>13.5</td>\n",
       "    </tr>\n",
       "    <tr>\n",
       "      <th>3</th>\n",
       "      <td>42</td>\n",
       "      <td>3</td>\n",
       "      <td>9</td>\n",
       "      <td>0</td>\n",
       "      <td>1994</td>\n",
       "      <td>1</td>\n",
       "      <td>31.0</td>\n",
       "    </tr>\n",
       "    <tr>\n",
       "      <th>4</th>\n",
       "      <td>3</td>\n",
       "      <td>0</td>\n",
       "      <td>15</td>\n",
       "      <td>0</td>\n",
       "      <td>1994</td>\n",
       "      <td>1</td>\n",
       "      <td>6.8</td>\n",
       "    </tr>\n",
       "  </tbody>\n",
       "</table>\n",
       "</div>"
      ],
      "text/plain": [
       "   Market  Category  Commodity  PriceType  Year  Month  Per_unit_price\n",
       "0      42         0         15          0  1994      1             8.0\n",
       "1      42         0         21          0  1994      1             5.0\n",
       "2      42         2         17          0  1994      1            13.5\n",
       "3      42         3          9          0  1994      1            31.0\n",
       "4       3         0         15          0  1994      1             6.8"
      ]
     },
     "execution_count": 79,
     "metadata": {},
     "output_type": "execute_result"
    }
   ],
   "source": [
    "df.head()"
   ]
  },
  {
   "cell_type": "code",
   "execution_count": 80,
   "id": "9d58f9dc",
   "metadata": {},
   "outputs": [
    {
     "data": {
      "text/plain": [
       "Int64Index([ 23015,  23030,  23045,  23059,  23077,  23093,  23113,  23130,\n",
       "             23146,  23162,\n",
       "            ...\n",
       "            139339, 139359, 139379, 139399, 139420, 139440, 139460, 139479,\n",
       "            139500, 139521],\n",
       "           dtype='int64', length=5979)"
      ]
     },
     "execution_count": 80,
     "metadata": {},
     "output_type": "execute_result"
    }
   ],
   "source": [
    "df[df[\"Commodity\"]==19].index"
   ]
  },
  {
   "cell_type": "code",
   "execution_count": 81,
   "id": "c4824134",
   "metadata": {},
   "outputs": [],
   "source": [
    "df.drop(index=df[df[\"Commodity\"]==19].index,inplace=True)"
   ]
  },
  {
   "cell_type": "code",
   "execution_count": 82,
   "id": "751561fa",
   "metadata": {},
   "outputs": [
    {
     "data": {
      "text/html": [
       "<div>\n",
       "<style scoped>\n",
       "    .dataframe tbody tr th:only-of-type {\n",
       "        vertical-align: middle;\n",
       "    }\n",
       "\n",
       "    .dataframe tbody tr th {\n",
       "        vertical-align: top;\n",
       "    }\n",
       "\n",
       "    .dataframe thead th {\n",
       "        text-align: right;\n",
       "    }\n",
       "</style>\n",
       "<table border=\"1\" class=\"dataframe\">\n",
       "  <thead>\n",
       "    <tr style=\"text-align: right;\">\n",
       "      <th></th>\n",
       "      <th>Market</th>\n",
       "      <th>Category</th>\n",
       "      <th>Commodity</th>\n",
       "      <th>PriceType</th>\n",
       "      <th>Year</th>\n",
       "      <th>Month</th>\n",
       "      <th>Per_unit_price</th>\n",
       "    </tr>\n",
       "  </thead>\n",
       "  <tbody>\n",
       "  </tbody>\n",
       "</table>\n",
       "</div>"
      ],
      "text/plain": [
       "Empty DataFrame\n",
       "Columns: [Market, Category, Commodity, PriceType, Year, Month, Per_unit_price]\n",
       "Index: []"
      ]
     },
     "execution_count": 82,
     "metadata": {},
     "output_type": "execute_result"
    }
   ],
   "source": [
    "df[df[\"Commodity\"]==19]"
   ]
  },
  {
   "cell_type": "code",
   "execution_count": 83,
   "id": "d615fbc9",
   "metadata": {},
   "outputs": [
    {
     "data": {
      "text/plain": [
       "(133555, 7)"
      ]
     },
     "execution_count": 83,
     "metadata": {},
     "output_type": "execute_result"
    }
   ],
   "source": [
    "df.shape"
   ]
  },
  {
   "cell_type": "code",
   "execution_count": 84,
   "id": "b744171e",
   "metadata": {},
   "outputs": [
    {
     "data": {
      "text/plain": [
       "<AxesSubplot:>"
      ]
     },
     "execution_count": 84,
     "metadata": {},
     "output_type": "execute_result"
    },
    {
     "data": {
      "image/png": "[encoded data removed]",
      "text/plain": [
       "<Figure size 576x396 with 1 Axes>"
      ]
     },
     "metadata": {},
     "output_type": "display_data"
    }
   ],
   "source": [
    "df[\"Per_unit_price\"].plot(kind=\"box\")"
   ]
  },
  {
   "cell_type": "code",
   "execution_count": 85,
   "id": "c771e5c8",
   "metadata": {},
   "outputs": [
    {
     "data": {
      "text/html": [
       "<div>\n",
       "<style scoped>\n",
       "    .dataframe tbody tr th:only-of-type {\n",
       "        vertical-align: middle;\n",
       "    }\n",
       "\n",
       "    .dataframe tbody tr th {\n",
       "        vertical-align: top;\n",
       "    }\n",
       "\n",
       "    .dataframe thead th {\n",
       "        text-align: right;\n",
       "    }\n",
       "</style>\n",
       "<table border=\"1\" class=\"dataframe\">\n",
       "  <thead>\n",
       "    <tr style=\"text-align: right;\">\n",
       "      <th></th>\n",
       "      <th>Market</th>\n",
       "      <th>Category</th>\n",
       "      <th>Commodity</th>\n",
       "      <th>PriceType</th>\n",
       "      <th>Year</th>\n",
       "      <th>Month</th>\n",
       "      <th>Per_unit_price</th>\n",
       "    </tr>\n",
       "  </thead>\n",
       "  <tbody>\n",
       "    <tr>\n",
       "      <th>count</th>\n",
       "      <td>133555.000000</td>\n",
       "      <td>133555.000000</td>\n",
       "      <td>133555.000000</td>\n",
       "      <td>133555.000000</td>\n",
       "      <td>133555.000000</td>\n",
       "      <td>133555.000000</td>\n",
       "      <td>133555.000000</td>\n",
       "    </tr>\n",
       "    <tr>\n",
       "      <th>mean</th>\n",
       "      <td>76.547752</td>\n",
       "      <td>2.329789</td>\n",
       "      <td>12.094463</td>\n",
       "      <td>0.017049</td>\n",
       "      <td>2015.962427</td>\n",
       "      <td>6.537614</td>\n",
       "      <td>56.764517</td>\n",
       "    </tr>\n",
       "    <tr>\n",
       "      <th>std</th>\n",
       "      <td>45.230600</td>\n",
       "      <td>1.686172</td>\n",
       "      <td>6.299024</td>\n",
       "      <td>0.129455</td>\n",
       "      <td>5.147641</td>\n",
       "      <td>3.360763</td>\n",
       "      <td>41.670929</td>\n",
       "    </tr>\n",
       "    <tr>\n",
       "      <th>min</th>\n",
       "      <td>0.000000</td>\n",
       "      <td>0.000000</td>\n",
       "      <td>0.000000</td>\n",
       "      <td>0.000000</td>\n",
       "      <td>1994.000000</td>\n",
       "      <td>1.000000</td>\n",
       "      <td>2.500000</td>\n",
       "    </tr>\n",
       "    <tr>\n",
       "      <th>25%</th>\n",
       "      <td>41.000000</td>\n",
       "      <td>0.000000</td>\n",
       "      <td>7.000000</td>\n",
       "      <td>0.000000</td>\n",
       "      <td>2014.000000</td>\n",
       "      <td>4.000000</td>\n",
       "      <td>22.670000</td>\n",
       "    </tr>\n",
       "    <tr>\n",
       "      <th>50%</th>\n",
       "      <td>74.000000</td>\n",
       "      <td>3.000000</td>\n",
       "      <td>13.000000</td>\n",
       "      <td>0.000000</td>\n",
       "      <td>2017.000000</td>\n",
       "      <td>7.000000</td>\n",
       "      <td>41.030000</td>\n",
       "    </tr>\n",
       "    <tr>\n",
       "      <th>75%</th>\n",
       "      <td>114.000000</td>\n",
       "      <td>4.000000</td>\n",
       "      <td>17.000000</td>\n",
       "      <td>0.000000</td>\n",
       "      <td>2020.000000</td>\n",
       "      <td>9.000000</td>\n",
       "      <td>86.000000</td>\n",
       "    </tr>\n",
       "    <tr>\n",
       "      <th>max</th>\n",
       "      <td>164.000000</td>\n",
       "      <td>5.000000</td>\n",
       "      <td>22.000000</td>\n",
       "      <td>1.000000</td>\n",
       "      <td>2021.000000</td>\n",
       "      <td>12.000000</td>\n",
       "      <td>248.750000</td>\n",
       "    </tr>\n",
       "  </tbody>\n",
       "</table>\n",
       "</div>"
      ],
      "text/plain": [
       "              Market       Category      Commodity      PriceType  \\\n",
       "count  133555.000000  133555.000000  133555.000000  133555.000000   \n",
       "mean       76.547752       2.329789      12.094463       0.017049   \n",
       "std        45.230600       1.686172       6.299024       0.129455   \n",
       "min         0.000000       0.000000       0.000000       0.000000   \n",
       "25%        41.000000       0.000000       7.000000       0.000000   \n",
       "50%        74.000000       3.000000      13.000000       0.000000   \n",
       "75%       114.000000       4.000000      17.000000       0.000000   \n",
       "max       164.000000       5.000000      22.000000       1.000000   \n",
       "\n",
       "                Year          Month  Per_unit_price  \n",
       "count  133555.000000  133555.000000   133555.000000  \n",
       "mean     2015.962427       6.537614       56.764517  \n",
       "std         5.147641       3.360763       41.670929  \n",
       "min      1994.000000       1.000000        2.500000  \n",
       "25%      2014.000000       4.000000       22.670000  \n",
       "50%      2017.000000       7.000000       41.030000  \n",
       "75%      2020.000000       9.000000       86.000000  \n",
       "max      2021.000000      12.000000      248.750000  "
      ]
     },
     "execution_count": 85,
     "metadata": {},
     "output_type": "execute_result"
    }
   ],
   "source": [
    "df.describe()"
   ]
  },
  {
   "cell_type": "code",
   "execution_count": null,
   "id": "c6e1b7e2",
   "metadata": {},
   "outputs": [],
   "source": []
  },
  {
   "cell_type": "code",
   "execution_count": 86,
   "id": "6e67a02d",
   "metadata": {},
   "outputs": [
    {
     "data": {
      "text/plain": [
       "(2.5, 86.0)"
      ]
     },
     "execution_count": 86,
     "metadata": {},
     "output_type": "execute_result"
    }
   ],
   "source": [
    "Q1=df[\"Per_unit_price\"].quantile(0.0)\n",
    "Q3=df[\"Per_unit_price\"].quantile(0.75)\n",
    "Q1,Q3"
   ]
  },
  {
   "cell_type": "code",
   "execution_count": 87,
   "id": "ad6938f2",
   "metadata": {},
   "outputs": [
    {
     "data": {
      "text/plain": [
       "83.5"
      ]
     },
     "execution_count": 87,
     "metadata": {},
     "output_type": "execute_result"
    }
   ],
   "source": [
    "IQR=Q3-Q1\n",
    "IQR"
   ]
  },
  {
   "cell_type": "code",
   "execution_count": 88,
   "id": "ee0a2684",
   "metadata": {},
   "outputs": [
    {
     "data": {
      "text/plain": [
       "(-97.7, 169.5)"
      ]
     },
     "execution_count": 88,
     "metadata": {},
     "output_type": "execute_result"
    }
   ],
   "source": [
    "lower_limit=Q1-1.2*IQR\n",
    "uper_limit=Q3+1*IQR\n",
    "lower_limit,uper_limit"
   ]
  },
  {
   "cell_type": "code",
   "execution_count": 89,
   "id": "815865f8",
   "metadata": {},
   "outputs": [
    {
     "data": {
      "text/plain": [
       "Int64Index([ 16677,  21335,  21956,  22573,  23202,  27395,  28117,  28608,\n",
       "             28838,  29338,\n",
       "            ...\n",
       "            139465, 139481, 139482, 139484, 139485, 139502, 139503, 139506,\n",
       "            139524, 139527],\n",
       "           dtype='int64', length=1950)"
      ]
     },
     "execution_count": 89,
     "metadata": {},
     "output_type": "execute_result"
    }
   ],
   "source": [
    "df[(df[\"Per_unit_price\"]<lower_limit)|(df[\"Per_unit_price\"]>uper_limit)].index"
   ]
  },
  {
   "cell_type": "code",
   "execution_count": 90,
   "id": "1032963d",
   "metadata": {},
   "outputs": [],
   "source": [
    "df.drop(index=df[(df[\"Per_unit_price\"]<lower_limit)|(df[\"Per_unit_price\"]>uper_limit)].index,inplace=True)"
   ]
  },
  {
   "cell_type": "code",
   "execution_count": 91,
   "id": "6311d64e",
   "metadata": {},
   "outputs": [
    {
     "data": {
      "text/plain": [
       "(131605, 7)"
      ]
     },
     "execution_count": 91,
     "metadata": {},
     "output_type": "execute_result"
    }
   ],
   "source": [
    "df.shape"
   ]
  },
  {
   "cell_type": "code",
   "execution_count": 92,
   "id": "7d527691",
   "metadata": {},
   "outputs": [
    {
     "data": {
      "text/html": [
       "<div>\n",
       "<style scoped>\n",
       "    .dataframe tbody tr th:only-of-type {\n",
       "        vertical-align: middle;\n",
       "    }\n",
       "\n",
       "    .dataframe tbody tr th {\n",
       "        vertical-align: top;\n",
       "    }\n",
       "\n",
       "    .dataframe thead th {\n",
       "        text-align: right;\n",
       "    }\n",
       "</style>\n",
       "<table border=\"1\" class=\"dataframe\">\n",
       "  <thead>\n",
       "    <tr style=\"text-align: right;\">\n",
       "      <th></th>\n",
       "      <th>Market</th>\n",
       "      <th>Category</th>\n",
       "      <th>Commodity</th>\n",
       "      <th>PriceType</th>\n",
       "      <th>Year</th>\n",
       "      <th>Month</th>\n",
       "      <th>Per_unit_price</th>\n",
       "    </tr>\n",
       "  </thead>\n",
       "  <tbody>\n",
       "    <tr>\n",
       "      <th>count</th>\n",
       "      <td>131605.000000</td>\n",
       "      <td>131605.000000</td>\n",
       "      <td>131605.000000</td>\n",
       "      <td>131605.000000</td>\n",
       "      <td>131605.000000</td>\n",
       "      <td>131605.000000</td>\n",
       "      <td>131605.000000</td>\n",
       "    </tr>\n",
       "    <tr>\n",
       "      <th>mean</th>\n",
       "      <td>76.424308</td>\n",
       "      <td>2.319479</td>\n",
       "      <td>12.139090</td>\n",
       "      <td>0.017302</td>\n",
       "      <td>2015.895916</td>\n",
       "      <td>6.536932</td>\n",
       "      <td>54.905206</td>\n",
       "    </tr>\n",
       "    <tr>\n",
       "      <th>std</th>\n",
       "      <td>45.210246</td>\n",
       "      <td>1.696364</td>\n",
       "      <td>6.330072</td>\n",
       "      <td>0.130394</td>\n",
       "      <td>5.152986</td>\n",
       "      <td>3.372745</td>\n",
       "      <td>39.029656</td>\n",
       "    </tr>\n",
       "    <tr>\n",
       "      <th>min</th>\n",
       "      <td>0.000000</td>\n",
       "      <td>0.000000</td>\n",
       "      <td>0.000000</td>\n",
       "      <td>0.000000</td>\n",
       "      <td>1994.000000</td>\n",
       "      <td>1.000000</td>\n",
       "      <td>2.500000</td>\n",
       "    </tr>\n",
       "    <tr>\n",
       "      <th>25%</th>\n",
       "      <td>41.000000</td>\n",
       "      <td>0.000000</td>\n",
       "      <td>7.000000</td>\n",
       "      <td>0.000000</td>\n",
       "      <td>2014.000000</td>\n",
       "      <td>4.000000</td>\n",
       "      <td>22.200000</td>\n",
       "    </tr>\n",
       "    <tr>\n",
       "      <th>50%</th>\n",
       "      <td>73.000000</td>\n",
       "      <td>3.000000</td>\n",
       "      <td>13.000000</td>\n",
       "      <td>0.000000</td>\n",
       "      <td>2017.000000</td>\n",
       "      <td>7.000000</td>\n",
       "      <td>40.220000</td>\n",
       "    </tr>\n",
       "    <tr>\n",
       "      <th>75%</th>\n",
       "      <td>114.000000</td>\n",
       "      <td>4.000000</td>\n",
       "      <td>17.000000</td>\n",
       "      <td>0.000000</td>\n",
       "      <td>2020.000000</td>\n",
       "      <td>9.000000</td>\n",
       "      <td>84.670000</td>\n",
       "    </tr>\n",
       "    <tr>\n",
       "      <th>max</th>\n",
       "      <td>164.000000</td>\n",
       "      <td>5.000000</td>\n",
       "      <td>22.000000</td>\n",
       "      <td>1.000000</td>\n",
       "      <td>2021.000000</td>\n",
       "      <td>12.000000</td>\n",
       "      <td>169.500000</td>\n",
       "    </tr>\n",
       "  </tbody>\n",
       "</table>\n",
       "</div>"
      ],
      "text/plain": [
       "              Market       Category      Commodity      PriceType  \\\n",
       "count  131605.000000  131605.000000  131605.000000  131605.000000   \n",
       "mean       76.424308       2.319479      12.139090       0.017302   \n",
       "std        45.210246       1.696364       6.330072       0.130394   \n",
       "min         0.000000       0.000000       0.000000       0.000000   \n",
       "25%        41.000000       0.000000       7.000000       0.000000   \n",
       "50%        73.000000       3.000000      13.000000       0.000000   \n",
       "75%       114.000000       4.000000      17.000000       0.000000   \n",
       "max       164.000000       5.000000      22.000000       1.000000   \n",
       "\n",
       "                Year          Month  Per_unit_price  \n",
       "count  131605.000000  131605.000000   131605.000000  \n",
       "mean     2015.895916       6.536932       54.905206  \n",
       "std         5.152986       3.372745       39.029656  \n",
       "min      1994.000000       1.000000        2.500000  \n",
       "25%      2014.000000       4.000000       22.200000  \n",
       "50%      2017.000000       7.000000       40.220000  \n",
       "75%      2020.000000       9.000000       84.670000  \n",
       "max      2021.000000      12.000000      169.500000  "
      ]
     },
     "execution_count": 92,
     "metadata": {},
     "output_type": "execute_result"
    }
   ],
   "source": [
    "df.describe()"
   ]
  },
  {
   "cell_type": "code",
   "execution_count": 93,
   "id": "23b71da3",
   "metadata": {},
   "outputs": [
    {
     "data": {
      "text/plain": [
       "<AxesSubplot:>"
      ]
     },
     "execution_count": 93,
     "metadata": {},
     "output_type": "execute_result"
    },
    {
     "data": {
      "image/png": "[encoded data removed]",
      "text/plain": [
       "<Figure size 576x396 with 1 Axes>"
      ]
     },
     "metadata": {},
     "output_type": "display_data"
    }
   ],
   "source": [
    "df[\"Per_unit_price\"].plot(kind=\"box\")"
   ]
  },
  {
   "cell_type": "code",
   "execution_count": 94,
   "id": "3f554dfd",
   "metadata": {},
   "outputs": [
    {
     "data": {
      "text/html": [
       "<div>\n",
       "<style scoped>\n",
       "    .dataframe tbody tr th:only-of-type {\n",
       "        vertical-align: middle;\n",
       "    }\n",
       "\n",
       "    .dataframe tbody tr th {\n",
       "        vertical-align: top;\n",
       "    }\n",
       "\n",
       "    .dataframe thead th {\n",
       "        text-align: right;\n",
       "    }\n",
       "</style>\n",
       "<table border=\"1\" class=\"dataframe\">\n",
       "  <thead>\n",
       "    <tr style=\"text-align: right;\">\n",
       "      <th></th>\n",
       "      <th>Market</th>\n",
       "      <th>Category</th>\n",
       "      <th>Commodity</th>\n",
       "      <th>PriceType</th>\n",
       "      <th>Year</th>\n",
       "      <th>Month</th>\n",
       "      <th>Per_unit_price</th>\n",
       "    </tr>\n",
       "  </thead>\n",
       "  <tbody>\n",
       "    <tr>\n",
       "      <th>0</th>\n",
       "      <td>42</td>\n",
       "      <td>0</td>\n",
       "      <td>15</td>\n",
       "      <td>0</td>\n",
       "      <td>1994</td>\n",
       "      <td>1</td>\n",
       "      <td>8.0</td>\n",
       "    </tr>\n",
       "    <tr>\n",
       "      <th>1</th>\n",
       "      <td>42</td>\n",
       "      <td>0</td>\n",
       "      <td>21</td>\n",
       "      <td>0</td>\n",
       "      <td>1994</td>\n",
       "      <td>1</td>\n",
       "      <td>5.0</td>\n",
       "    </tr>\n",
       "    <tr>\n",
       "      <th>2</th>\n",
       "      <td>42</td>\n",
       "      <td>2</td>\n",
       "      <td>17</td>\n",
       "      <td>0</td>\n",
       "      <td>1994</td>\n",
       "      <td>1</td>\n",
       "      <td>13.5</td>\n",
       "    </tr>\n",
       "    <tr>\n",
       "      <th>3</th>\n",
       "      <td>42</td>\n",
       "      <td>3</td>\n",
       "      <td>9</td>\n",
       "      <td>0</td>\n",
       "      <td>1994</td>\n",
       "      <td>1</td>\n",
       "      <td>31.0</td>\n",
       "    </tr>\n",
       "    <tr>\n",
       "      <th>4</th>\n",
       "      <td>3</td>\n",
       "      <td>0</td>\n",
       "      <td>15</td>\n",
       "      <td>0</td>\n",
       "      <td>1994</td>\n",
       "      <td>1</td>\n",
       "      <td>6.8</td>\n",
       "    </tr>\n",
       "  </tbody>\n",
       "</table>\n",
       "</div>"
      ],
      "text/plain": [
       "   Market  Category  Commodity  PriceType  Year  Month  Per_unit_price\n",
       "0      42         0         15          0  1994      1             8.0\n",
       "1      42         0         21          0  1994      1             5.0\n",
       "2      42         2         17          0  1994      1            13.5\n",
       "3      42         3          9          0  1994      1            31.0\n",
       "4       3         0         15          0  1994      1             6.8"
      ]
     },
     "execution_count": 94,
     "metadata": {},
     "output_type": "execute_result"
    }
   ],
   "source": [
    "df.head()"
   ]
  },
  {
   "cell_type": "code",
   "execution_count": 95,
   "id": "0cd533ee",
   "metadata": {},
   "outputs": [],
   "source": [
    "from sklearn.model_selection import train_test_split\n",
    "from sklearn.linear_model import LinearRegression\n",
    "import pickle"
   ]
  },
  {
   "cell_type": "code",
   "execution_count": 96,
   "id": "998d1e73",
   "metadata": {},
   "outputs": [],
   "source": [
    "x=df.drop(\"Per_unit_price\",axis=1)\n",
    "y=df[\"Per_unit_price\"]"
   ]
  },
  {
   "cell_type": "code",
   "execution_count": 97,
   "id": "4fd0caf4",
   "metadata": {},
   "outputs": [
    {
     "data": {
      "text/html": [
       "<div>\n",
       "<style scoped>\n",
       "    .dataframe tbody tr th:only-of-type {\n",
       "        vertical-align: middle;\n",
       "    }\n",
       "\n",
       "    .dataframe tbody tr th {\n",
       "        vertical-align: top;\n",
       "    }\n",
       "\n",
       "    .dataframe thead th {\n",
       "        text-align: right;\n",
       "    }\n",
       "</style>\n",
       "<table border=\"1\" class=\"dataframe\">\n",
       "  <thead>\n",
       "    <tr style=\"text-align: right;\">\n",
       "      <th></th>\n",
       "      <th>Market</th>\n",
       "      <th>Category</th>\n",
       "      <th>Commodity</th>\n",
       "      <th>PriceType</th>\n",
       "      <th>Year</th>\n",
       "      <th>Month</th>\n",
       "    </tr>\n",
       "  </thead>\n",
       "  <tbody>\n",
       "    <tr>\n",
       "      <th>0</th>\n",
       "      <td>42</td>\n",
       "      <td>0</td>\n",
       "      <td>15</td>\n",
       "      <td>0</td>\n",
       "      <td>1994</td>\n",
       "      <td>1</td>\n",
       "    </tr>\n",
       "    <tr>\n",
       "      <th>1</th>\n",
       "      <td>42</td>\n",
       "      <td>0</td>\n",
       "      <td>21</td>\n",
       "      <td>0</td>\n",
       "      <td>1994</td>\n",
       "      <td>1</td>\n",
       "    </tr>\n",
       "    <tr>\n",
       "      <th>2</th>\n",
       "      <td>42</td>\n",
       "      <td>2</td>\n",
       "      <td>17</td>\n",
       "      <td>0</td>\n",
       "      <td>1994</td>\n",
       "      <td>1</td>\n",
       "    </tr>\n",
       "    <tr>\n",
       "      <th>3</th>\n",
       "      <td>42</td>\n",
       "      <td>3</td>\n",
       "      <td>9</td>\n",
       "      <td>0</td>\n",
       "      <td>1994</td>\n",
       "      <td>1</td>\n",
       "    </tr>\n",
       "    <tr>\n",
       "      <th>4</th>\n",
       "      <td>3</td>\n",
       "      <td>0</td>\n",
       "      <td>15</td>\n",
       "      <td>0</td>\n",
       "      <td>1994</td>\n",
       "      <td>1</td>\n",
       "    </tr>\n",
       "  </tbody>\n",
       "</table>\n",
       "</div>"
      ],
      "text/plain": [
       "   Market  Category  Commodity  PriceType  Year  Month\n",
       "0      42         0         15          0  1994      1\n",
       "1      42         0         21          0  1994      1\n",
       "2      42         2         17          0  1994      1\n",
       "3      42         3          9          0  1994      1\n",
       "4       3         0         15          0  1994      1"
      ]
     },
     "execution_count": 97,
     "metadata": {},
     "output_type": "execute_result"
    }
   ],
   "source": [
    "x.head()"
   ]
  },
  {
   "cell_type": "code",
   "execution_count": 98,
   "id": "5d5f3a10",
   "metadata": {},
   "outputs": [
    {
     "data": {
      "text/plain": [
       "0     8.0\n",
       "1     5.0\n",
       "2    13.5\n",
       "3    31.0\n",
       "4     6.8\n",
       "Name: Per_unit_price, dtype: float64"
      ]
     },
     "execution_count": 98,
     "metadata": {},
     "output_type": "execute_result"
    }
   ],
   "source": [
    "y.head()"
   ]
  },
  {
   "cell_type": "code",
   "execution_count": 99,
   "id": "24e7d3f8",
   "metadata": {},
   "outputs": [],
   "source": [
    "x_train,x_test,y_train,y_test=train_test_split(x,y,test_size=0.2,random_state=51)"
   ]
  },
  {
   "cell_type": "code",
   "execution_count": 105,
   "id": "ea134384",
   "metadata": {},
   "outputs": [],
   "source": [
    "linear_model=LinearRegression()"
   ]
  },
  {
   "cell_type": "code",
   "execution_count": 106,
   "id": "57cd42b3",
   "metadata": {},
   "outputs": [
    {
     "data": {
      "text/plain": [
       "LinearRegression()"
      ]
     },
     "execution_count": 106,
     "metadata": {},
     "output_type": "execute_result"
    }
   ],
   "source": [
    "linear_model.fit(x_train,y_train)"
   ]
  },
  {
   "cell_type": "markdown",
   "id": "68e19ff4",
   "metadata": {},
   "source": [
    "lm.score()"
   ]
  },
  {
   "cell_type": "code",
   "execution_count": 107,
   "id": "bf0ad30f",
   "metadata": {},
   "outputs": [
    {
     "data": {
      "text/plain": [
       "0.4749329333848792"
      ]
     },
     "execution_count": 107,
     "metadata": {},
     "output_type": "execute_result"
    }
   ],
   "source": [
    "linear_model.score(x_train,y_train)"
   ]
  },
  {
   "cell_type": "code",
   "execution_count": 108,
   "id": "377ba937",
   "metadata": {},
   "outputs": [],
   "source": [
    "predict=linear_model.predict(x_test)"
   ]
  },
  {
   "cell_type": "code",
   "execution_count": 109,
   "id": "76b814ed",
   "metadata": {},
   "outputs": [
    {
     "data": {
      "text/plain": [
       "<matplotlib.collections.PathCollection at 0x1aa3d3c2710>"
      ]
     },
     "execution_count": 109,
     "metadata": {},
     "output_type": "execute_result"
    },
    {
     "data": {
      "image/png": "[encoded data removed]",
      "text/plain": [
       "<Figure size 576x396 with 1 Axes>"
      ]
     },
     "metadata": {},
     "output_type": "display_data"
    }
   ],
   "source": [
    " plt.scatter(y_test,predict)"
   ]
  },
  {
   "cell_type": "code",
   "execution_count": 110,
   "id": "e698aa86",
   "metadata": {},
   "outputs": [],
   "source": [
    "file=open(\"linear_model.pkl\",\"wb\")\n",
    "pickle.dump(linear_model,file)\n"
   ]
  },
  {
   "cell_type": "code",
   "execution_count": null,
   "id": "4421e5d4",
   "metadata": {},
   "outputs": [],
   "source": []
  }
 ],
 "metadata": {
  "kernelspec": {
   "display_name": "Python 3",
   "language": "python",
   "name": "python3"
  },
  "language_info": {
   "codemirror_mode": {
    "name": "ipython",
    "version": 3
   },
   "file_extension": ".py",
   "mimetype": "text/x-python",
   "name": "python",
   "nbconvert_exporter": "python",
   "pygments_lexer": "ipython3",
   "version": "3.6.9"
  }
 },
 "nbformat": 4,
 "nbformat_minor": 5
}
